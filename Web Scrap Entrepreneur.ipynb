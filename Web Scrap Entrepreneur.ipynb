{
 "cells": [
  {
   "cell_type": "code",
   "execution_count": 4,
   "metadata": {},
   "outputs": [],
   "source": [
    "from requests import get\n",
    "import pandas as pd"
   ]
  },
  {
   "cell_type": "markdown",
   "metadata": {},
   "source": [
    "### Web Scrapping"
   ]
  },
  {
   "cell_type": "code",
   "execution_count": 5,
   "metadata": {},
   "outputs": [],
   "source": [
    "url = \"https://www.ranker.com/list/most-successful-entrepreneurs-in-the-world/business-and-company-info\""
   ]
  },
  {
   "cell_type": "code",
   "execution_count": 6,
   "metadata": {},
   "outputs": [
    {
     "name": "stdout",
     "output_type": "stream",
     "text": [
      "<Response [200]>\n"
     ]
    }
   ],
   "source": [
    "response = get(url)\n",
    "print(response)"
   ]
  },
  {
   "cell_type": "code",
   "execution_count": 4,
   "metadata": {},
   "outputs": [
    {
     "data": {
      "text/plain": [
       "bs4.BeautifulSoup"
      ]
     },
     "execution_count": 4,
     "metadata": {},
     "output_type": "execute_result"
    }
   ],
   "source": [
    "from bs4 import BeautifulSoup as bs ## importing Beautiful Soup\n",
    "html_soup = bs(response.text,'html.parser')## python's in built library HTML parser\n",
    "type(html_soup)"
   ]
  },
  {
   "cell_type": "code",
   "execution_count": 5,
   "metadata": {},
   "outputs": [],
   "source": [
    "id_check = html_soup.find(\"article\", class_=\"list__article list__section layout--adjust relative whiteBg list--headerEmpty list--noVotes\")"
   ]
  },
  {
   "cell_type": "code",
   "execution_count": 6,
   "metadata": {},
   "outputs": [
    {
     "data": {
      "text/plain": [
       "<bound method Tag.prettify of <article class=\"list__article list__section layout--adjust relative whiteBg list--headerEmpty list--noVotes\" data-list-id=\"300896\" id=\"list\" itemscope=\"\" itemtype=\"http://schema.org/ItemList\" role=\"main\"> <meta content=\"The Most Successful Entrepreneurs In The World\" itemprop=\"name\"/> <header class=\"list__header relative\"> <div class=\"list__title relative visible\"> <h1 class=\"list__h1 block black whiteBg relative visible robotoC \" data-internal-url=\"//www.ranker.com/list/most-successful-entrepreneurs-in-the-world/business-and-company-info\" role=\"heading\"> <!--googleoff: all--> <span class=\"list__tag absolute whiteBg\"> Wealthy</span> <!--googleon: all--> The Most Successful Entrepreneurs In The World  <span class=\"listStats relative inlineBlock\" data-share-description=\"Ever wonder who makes the list of world famous entrepreneurs? These are the profiles of the most popular entrepreneurs ...\" data-share-image=\"https://imgix.ranker.com/list_img_v2/896/300896/original/most-successful-entrepreneurs-in-the-world-u3?w=650&amp;fit=clip&amp;q=60&amp;fm=jpg\" data-share-title=\"The Most Successful Entrepreneurs In The World\" data-share-url=\"//www.ranker.com/list/most-successful-entrepreneurs-in-the-world/business-and-company-info?ref=dshare\" id=\"listStats\"> <span class=\"button button__share listStats__icon listStats__icon--fb float inlineBlock\" data-shareparamson=\"listStats\" data-sharetype=\"facebook\"> <svg class=\"rsvg listStats__iconSvg float\"> <use href=\"#rsvg__social--facebook\" xlink:href=\"#rsvg__social--facebook\"></use> </svg> </span> <span class=\"button button__share listStats__icon listStats__icon--pinterest float inlineBlock\" data-shareparamson=\"listStats\" data-sharetype=\"pinterest\"> <svg class=\"rsvg listStats__iconSvg float\"> <use href=\"#rsvg__social--pinterest\" xlink:href=\"#rsvg__social--pinterest\"></use> </svg> </span> <span class=\"button button__share listStats__icon listStats__icon--email float inlineBlock\" data-shareparamson=\"listStats\" data-sharetype=\"email\"> <svg class=\"rsvg listStats__iconSvg float\"> <use href=\"#rsvg__social--email\" xlink:href=\"#rsvg__social--email\"></use> </svg> </span> </span> </h1><img alt=\"Business and Company Info\" class=\"list__authorImage float\" src=\"https://imgix.ranker.com/user_img/1/2750/original/profile?w=56&amp;h=56&amp;q=60&amp;fm=jpg&amp;fit=crop&amp;crop=faces\"/> <div class=\"list__author block visible black robotoC\"> <a class=\"list__authorLink black\" href=\"//www.ranker.com/profile-of/business-and-company-info\" rel=\"author\" role=\"link\" title=\"View Business and Company Info's profile\">Business and Company Info</a></div> <div class=\"list__data block grey instapaper_ignore\"> <span class=\"list__dataItem relative float block\"> 939.5k views </span> <span class=\"list__dataItem list__dataItem--totalItems relative float list__dataItem--last block\"> 25 items </span> </div></div> </header> <div class=\"list__description relative\" itemprop=\"description\"> <p>Ever wonder who makes the list of world famous entrepreneurs? These are the profiles of the most popular entrepreneurs that are worth emulating, chosen for this list and ranked loosely by <a class=\"edS-cl\" href=\"https://www.ranker.com/tags/popular-opinion?ref=internalCrossLinking_tag\">popular opinion</a> as well as clear business success metrics. These business leaders are from diverse domains and at top of their fields and are <a class=\"edS-cl\" href=\"https://www.ranker.com/crowdranked-list/famous-role-models-we_d-like-to-meet-in-person?ref=internalCrossLinking_keyword\">great role models</a> as well as being some of the most well known people on the planet.</p> <p>Who are the most successful businessmen in the world? All of these examples of top entrepreneurs are unique in that they believed in themselves mostly since they were kids and worked towards that goal to success and fame.</p> </div><meta content=\"ascending\" itemprop=\"itemListOrder\"/> <meta content=\"25\" itemprop=\"numberOfItems\"/> <div class=\"listItem listItem--blog relative flex \" data-islistafterlist=\"false\" data-node-id=\"1279286\" itemprop=\"itemListElement\" itemscope=\"\" itemtype=\"//schema.org/ListItem\" role=\"listitem\"> <div class=\"listItem__content--blog relative\"> <figure class=\"listItem__figure relative\"> <img alt=\"Jeff Bezos is listed (or ranked) 1 on the list The Most Successful Entrepreneurs In The World\" class=\"lazyload listItem__image listItem__image--blog\" data-sizes=\"auto\" data-src=\"https://imgix.ranker.com/node_img/64/1279286/original/jeffrey-p-bezos-people-in-tv-photo-1?w=650&amp;q=50&amp;fm=jpg&amp;fit=crop&amp;crop=faces\" itemprop=\"image\" src=\"https://imgix.ranker.com/node_img/64/1279286/original/jeffrey-p-bezos-people-in-tv-photo-1?w=650&amp;blur=200&amp;px=16&amp;fm=jpg&amp;fit=crop\"/> <!--googleoff: all--> <figcaption class=\"rankerList__caption block relative midGrey\">Photo: <a class=\"rankerList__captionLink\" href=\"http://freebase.com/m/03rv1md\" rel=\"nofollow\" target=\"_blank\">Metaweb (FB)</a>/<a class=\"rankerList__captionLink\" href=\"http://creativecommons.org/licenses/by/3.0/\" rel=\"nofollow\" target=\"_blank\">CC-BY</a></figcaption> <!--googleon: all--> </figure><meta content=\"1\" itemprop=\"position\"/> <div class=\"listItem__title listItem__title--blog flex\"> <div class=\"listItem__ranking listItem__ranking--blog flex\"> <strong class=\"listItem__rank listItem__rank--blog inlineBlock center robotoC instapaper_ignore\">1</strong> </div> <h2 class=\"listItem__h2 listItem__h2--blog flex\"> <span class=\"listItem__info listItem__info--blog block\"> </span> <meta content=\"Jeff Bezos\" itemprop=\"name\"/> <a class=\"listItem__h2Link black\" href=\"//www.ranker.com/review/jeffrey-p-bezos/1279286?ref=node_name&amp;pos=1&amp;a=0&lt;ype=n&amp;l=300896&amp;g=1\" itemprop=\"url\" rel=\"follow\" role=\"link\">Jeff Bezos</a></h2> </div> <meta content=\" Founder of Amazon.com, Jeff Bezos has an approximate net worth of $159.6 billion in September 2018, doubling his net worth from just 12 months prior and making him the richest person in the world. \" itemprop=\"description\"/> <p>Founder of Amazon.com, Jeff Bezos has an approximate net worth of $159.6 billion in September 2018, doubling his net worth from just 12 months prior and making him <a href=\"https://www.forhttps://www.forbes.com/billionaires/list/#version:static\" target=\"_blank\">the richest person in the world</a>.</p> <p class=\"listItem__content--wiki listItem__content--wiki-hasBlather\"> Jeffrey Preston \"Jeff\" Bezos is an American business magnate and investor. He is a technology entrepreneur who has played a key role in the growth of e-commerce as the founder and CEO of Amazon.com, an online merchant of books and later of a wide variety of products. Under his guidance, Amazon.com became the largest retailer on the World Wide Web and a top model for Internet sales. In 2013, Bezos purchased The Washington Post newspaper. As of March 2015, Bezos's personal wealth is estimated to be US$34.8 billion, ranking him number 15 on the Forbes list of billionaires.<a href=\"http://en.wikipedia.org/wiki/Jeff_Bezos\" role=\"link\" target=\"_blank\"> ...more on Wikipedia</a> </p> <p class=\"listItem__property relative\"> <strong class=\"listItem__property--name inlineBlock\">Age:</strong> 54</p> <p class=\"listItem__property relative\"> <strong class=\"listItem__property--name inlineBlock\">Birthplace:</strong> Albuquerque, New Mexico, United States of America</p> <p class=\"listItem__property relative\"> <strong class=\"listItem__property--name inlineBlock\">Profession:</strong> Businessperson, Entrepreneur</p><p class=\"listItem__propertyTitle relative black robotoC\">Also Ranked</p> <p class=\"listItem__property listItem__property--alsoRanked relative\"> <strong class=\"listItem__property--name inlineBlock\">#10</strong> on <a href=\"//www.ranker.com/list/most-influential-ceos-all-time/ready-to-startup?ref=also_ranked\">The Most Influential CEOs of All Time</a> </p> <p class=\"listItem__property listItem__property--alsoRanked relative\"> <strong class=\"listItem__property--name inlineBlock\">#6</strong> on <a href=\"//www.ranker.com/list/the-most-irreplaceable-ceos-in-the-world/ready-to-startup?ref=also_ranked\">The Most Irreplaceable CEOs in the World</a> </p> <p class=\"listItem__propertyTitle relative black robotoC\"> More <a href=\"//www.ranker.com/review/jeffrey-p-bezos/1279286?ref=divedeeper\">Jeff Bezos</a> <svg class=\"rsvg listItem__propertyChevronRight\"> <use href=\"#rsvg__arrows--chevronRight\" xlink:href=\"#rsvg__arrows--chevronRight\"></use> </svg> </p> <a class=\"listItem__property listItem__property--nodeTagged block relative\" href=\"//www.ranker.com/list/jeff-bezos-fun-facts/donn-saylor?ref=divedeeper\">Things You Never Knew About Jeff Bezos</a> </div> <div class=\"listItem__rightRail--blogContainer\"> <div class=\"listItem__rightRail--blog relative $eiv\" data-eiv-callback=\"RView.liftIgnite.getRightRailSlots\" data-eiv-clearinview=\"true\" data-eiv-offset=\"50\"> <a class=\"related__item related__item--rightRail flex relative center\" data-algo=\"40\" data-classes=\"related__item--rightRail\" data-image=\"https://imgix.ranker.com/list_img_v2/2144/1302144/original/29-celebrities-who-married-the-same-person-twice-u1?w=427&amp;h=223&amp;fit=crop&amp;q=50&amp;fm=jpg\" data-position=\"1\" data-ri=\"\" data-slot=\"RIGHT_RAIL\" data-votable=\"false\" href=\"//www.ranker.com/list/celebrities-who-married-the-same-person-twice/celebrity-lists?ref=lzyrltdlstszerg_rr\" style=\"background-image:url(https://imgix.ranker.com/list_img_v2/2144/1302144/original/29-celebrities-who-married-the-same-person-twice-u1?w=427&amp;h=223&amp;fit=crop&amp;q=50&amp;fm=jpg)\" title=\" 31 Celebrities Who Married the Same Person Twice \"> <span class=\"related__itemMeta whiteBg black flex robotoL\"> 31 Celebrities Who Married the Same Person Twice </span> </a></div> <div class=\"ad ad--noHead ad__adunit ad__adunit--250 ad__adunit--rightRail instapaper_ignore $eiv\" data-eiv-callback=\"displayAdCallback\" data-eiv-clearinview=\"false\" data-eiv-namespace=\"RDFP\" data-eiv-offset=\"600\" id=\"DESKTOP_BLOG_RR_01\"> </div> </div></div> <div class=\"ad ad__adunit ad__adunit--728 ad__adunit--listItem ad__adunit--listItem-blog center instapaper_ignore $eiv\" data-eiv-callback=\"displayAdCallback\" data-eiv-clearinview=\"false\" data-eiv-namespace=\"RDFP\" data-eiv-offset=\"600\" id=\"DESKTOP_BLOG_IL_01\"> </div> <div class=\"listItem listItem--blog relative flex \" data-islistafterlist=\"false\" data-node-id=\"585095\" itemprop=\"itemListElement\" itemscope=\"\" itemtype=\"//schema.org/ListItem\" role=\"listitem\"> <div class=\"listItem__content--blog relative\"> <figure class=\"listItem__figure relative\"> <img alt=\"Bill Gates is listed (or ranked) 2 on the list The Most Successful Entrepreneurs In The World\" class=\"lazyload listItem__image listItem__image--blog\" data-sizes=\"auto\" data-src=\"https://imgix.ranker.com/user_node_img/30/585095/original/bill-gates-recording-artists-and-groups-photo-u40?w=650&amp;q=50&amp;fm=jpg&amp;fit=crop&amp;crop=faces\" itemprop=\"image\" src=\"https://imgix.ranker.com/user_node_img/30/585095/original/bill-gates-recording-artists-and-groups-photo-u40?w=650&amp;blur=200&amp;px=16&amp;fm=jpg&amp;fit=crop\"/> <!--googleoff: all--> <figcaption class=\"rankerList__caption block relative midGrey\">Photo: via Reddit</figcaption> <!--googleon: all--> </figure><meta content=\"2\" itemprop=\"position\"/> <div class=\"listItem__title listItem__title--blog flex\"> <div class=\"listItem__ranking listItem__ranking--blog flex\"> <strong class=\"listItem__rank listItem__rank--blog inlineBlock center robotoC instapaper_ignore\">2</strong> </div> <h2 class=\"listItem__h2 listItem__h2--blog flex\"> <span class=\"listItem__info listItem__info--blog block\"> </span> <meta content=\"Bill Gates\" itemprop=\"name\"/> <a class=\"listItem__h2Link black\" href=\"//www.ranker.com/review/bill-gates/585095?ref=node_name&amp;pos=2&amp;a=0&lt;ype=n&amp;l=300896&amp;g=1\" itemprop=\"url\" rel=\"follow\" role=\"link\">Bill Gates</a></h2> </div> <meta content=\" Microsoft founder Gates is the second richest person in the world, with a net worth of over $90 billion in September 2018. He intends to give away virtually all of his wealth. \" itemprop=\"description\"/> <p>Microsoft founder Gates is t<a href=\"https://www.forbes.com/billionaires/list/#version:static\" target=\"_blank\">he second richest person in the world</a>, with a net worth of over $90 billion in September 2018.</p> <p>He intends to give away virtually all of his wealth.</p> <p class=\"listItem__content--wiki listItem__content--wiki-hasBlather\"> William Henry \"Bill\" Gates III is an American business magnate, philanthropist, investor, computer programmer, and inventor. Gates originally established his reputation as the co-founder of Microsoft, the world’s largest PC software company, with Paul Allen. During his career at Microsoft, Gates held the positions of chairman, CEO and chief software architect, and was also the largest individual shareholder until May 2014. He has also authored and co-authored several books. Today he is consistently ranked in the Forbes list of the world's wealthiest people and was the wealthiest overall from 1995 to 2014—excluding a few brief periods post-2008. Between 2009 and 2014 his wealth more than<a href=\"http://en.wikipedia.org/wiki/Bill_Gates\" role=\"link\" target=\"_blank\"> ...more on Wikipedia</a> </p> <p class=\"listItem__property relative\"> <strong class=\"listItem__property--name inlineBlock\">Age:</strong> 62</p> <p class=\"listItem__property relative\"> <strong class=\"listItem__property--name inlineBlock\">Birthplace:</strong> USA, Washington, Seattle</p> <p class=\"listItem__property relative\"> <strong class=\"listItem__property--name inlineBlock\">Profession:</strong> Programmer, Software Architect, Businessperson, Investor, Entrepreneur</p><p class=\"listItem__propertyTitle relative black robotoC\">Also Ranked</p> <p class=\"listItem__property listItem__property--alsoRanked relative\"> <strong class=\"listItem__property--name inlineBlock\">#39</strong> on <a href=\"//www.ranker.com/crowdranked-list/the-most-influential-people-of-all-time?ref=also_ranked\">The Most Influential People of All Time</a> </p> <p class=\"listItem__property listItem__property--alsoRanked relative\"> <strong class=\"listItem__property--name inlineBlock\">#79</strong> on <a href=\"//www.ranker.com/list/famous-men-youd-want-to-have-a-beer-with/ariel-kana?ref=also_ranked\">Famous Men You'd Want to Have a Beer With</a> </p> <p class=\"listItem__property listItem__property--alsoRanked relative\"> <strong class=\"listItem__property--name inlineBlock\">#91</strong> on <a href=\"//www.ranker.com/crowdranked-list/famous-role-models-we_d-like-to-meet-in-person?ref=also_ranked\">Famous Role Models We'd Like to Meet In Person</a> </p> <p class=\"listItem__property listItem__property--alsoRanked relative\"> <strong class=\"listItem__property--name inlineBlock\">#66</strong> on <a href=\"//www.ranker.com/list/most-important-leaders-in-us-history/mel-judson?ref=also_ranked\">The Most Important Leaders in U.S. History</a> </p> <p class=\"listItem__propertyTitle relative black robotoC\"> More <a href=\"//www.ranker.com/review/bill-gates/585095?ref=divedeeper\">Bill Gates</a> <svg class=\"rsvg listItem__propertyChevronRight\"> <use href=\"#rsvg__arrows--chevronRight\" xlink:href=\"#rsvg__arrows--chevronRight\"></use> </svg> </p> <a class=\"listItem__property listItem__property--nodeTagged block relative\" href=\"//www.ranker.com/list/relationship-between-steve-jobs-and-bill-gates/melissa-sartore?ref=divedeeper\">How Steve Jobs And Bill Gates Went From Friends To Bitter Enemies</a> <div class=\"ad ad--noHead ad__adunit--listItem--vice\" id=\"DESKTOP_BLOG_VICE\"></div> </div> <div class=\"listItem__rightRail--blogContainer\"> <div class=\"ad ad--noHead ad__adunit ad__adunit--250 ad__adunit--rightRail instapaper_ignore $eiv\" data-eiv-callback=\"displayAdCallback\" data-eiv-clearinview=\"false\" data-eiv-namespace=\"RDFP\" data-eiv-offset=\"600\" id=\"DESKTOP_BLOG_RR_02\"> </div> <div class=\"listItem__rightRail--blog relative $eiv\" data-eiv-callback=\"RView.liftIgnite.getRightRailSlots\" data-eiv-clearinview=\"true\" data-eiv-offset=\"50\"> <a class=\"related__item related__item--rightRail flex relative center\" data-algo=\"22\" data-classes=\"related__item--rightRail\" data-image=\"https://imgix.ranker.com/list_img_v2/1335/921335/original/actors-nobody-cares-about-anymore-u2?w=427&amp;h=223&amp;fit=crop&amp;q=50&amp;fm=jpg\" data-position=\"2\" data-ri=\"\" data-slot=\"RIGHT_RAIL\" data-votable=\"true\" href=\"//www.ranker.com/list/actors-nobody-cares-about-anymore/ranker-celebrities?ref=lzyrltdlstszerg_rr\" style=\"background-image:url(https://imgix.ranker.com/list_img_v2/1335/921335/original/actors-nobody-cares-about-anymore-u2?w=427&amp;h=223&amp;fit=crop&amp;q=50&amp;fm=jpg)\" title=\" Celebrities Nobody Cares About Anymore \"> <span class=\"related__itemMeta whiteBg black flex robotoL\"> Celebrities Nobody Cares About Anymore </span> </a></div> </div></div> <div class=\"listItem listItem--blog relative flex \" data-islistafterlist=\"false\" data-node-id=\"1413360\" itemprop=\"itemListElement\" itemscope=\"\" itemtype=\"//schema.org/ListItem\" role=\"listitem\"> <div class=\"listItem__content--blog relative\"> <figure class=\"listItem__figure relative\"> <img alt=\"Larry Ellison is listed (or ranked) 3 on the list The Most Successful Entrepreneurs In The World\" class=\"lazyload listItem__image listItem__image--blog\" data-sizes=\"auto\" data-src=\"https://imgix.ranker.com/user_node_img/71/1413360/original/larry-ellison-photo-u4?w=650&amp;q=50&amp;fm=jpg&amp;fit=crop&amp;crop=faces\" itemprop=\"image\" src=\"https://imgix.ranker.com/user_node_img/71/1413360/original/larry-ellison-photo-u4?w=650&amp;blur=200&amp;px=16&amp;fm=jpg&amp;fit=crop\"/> <!--googleoff: all--> <figcaption class=\"rankerList__caption block relative midGrey\">Photo: <a class=\"rankerList__captionLink\" href=\"http://flickr.com/photos/43156897@N06\" rel=\"nofollow\" target=\"_blank\"> Oracle Computer Communications</a>/<a class=\"rankerList__captionLink\" href=\"https://commons.wikimedia.org/wiki/File:Larry_Elllison_on_stage.jpg\" rel=\"nofollow\" target=\"_blank\">Wikimedia Commons</a>/<a class=\"rankerList__captionLink\" href=\"https://creativecommons.org/licenses/by/2.0/deed.en\" rel=\"nofollow\" target=\"_blank\">CC BY 2.0</a></figcaption> <!--googleon: all--> </figure><meta content=\"3\" itemprop=\"position\"/> <div class=\"listItem__title listItem__title--blog flex\"> <div class=\"listItem__ranking listItem__ranking--blog flex\"> <strong class=\"listItem__rank listItem__rank--blog inlineBlock center robotoC instapaper_ignore\">3</strong> </div> <h2 class=\"listItem__h2 listItem__h2--blog flex\"> <span class=\"listItem__info listItem__info--blog block\"> </span> <meta content=\"Larry Ellison\" itemprop=\"name\"/> <a class=\"listItem__h2Link black\" href=\"//www.ranker.com/review/larry-ellison/1413360?ref=node_name&amp;pos=3&amp;a=0&lt;ype=n&amp;l=300896&amp;g=1\" itemprop=\"url\" rel=\"follow\" role=\"link\">Larry Ellison</a></h2> </div> <meta content=\"Oracle founder and CEO, Ellison is now a full-time philanthropist with a net worth of $58.5 billion in March 2018, making him the 10th richest person in the world. He pledged $200 million for a cancer treatment center to the ...\" itemprop=\"description\"/> <p>Oracle founder and CEO, Ellison is now a full-time philanthropist with a net worth of $58.5 billion <a href=\"https://www.forbes.com/profile/larry-ellison/?list=billionaires#592063d124c2\" target=\"_blank\">in March 2018</a>, making him the 10th richest person in the world.</p> <p>He pledged $200 million for a cancer treatment center to the University of Southern California in 2016.</p> <p class=\"listItem__content--wiki listItem__content--wiki-hasBlather\"> Lawrence Joseph \"Larry\" Ellison is an American programmer, internet entrepreneur, adventurer, businessman and philanthropist. He was the Chief Executive Officer of the software company Oracle Corporation between its foundation in 1977 and 2014. In 2014, he was listed by Forbes as the third-wealthiest man in America and as the fifth-wealthiest person in the world, with a fortune of $56.2 billion. Ellison was born in New York City but grew up in Chicago. He studied at the University of Illinois at Urbana–Champaign and the University of Chicago without graduating before moving to California in 1966. While working at Ampex Corporation in the early 1970s, he became influenced by Edgar F. Codd's<a href=\"http://en.wikipedia.org/wiki/Larry_Ellison\" role=\"link\" target=\"_blank\"> ...more on Wikipedia</a> </p> <p class=\"listItem__property relative\"> <strong class=\"listItem__property--name inlineBlock\">Age:</strong> 74</p> <p class=\"listItem__property relative\"> <strong class=\"listItem__property--name inlineBlock\">Birthplace:</strong> Lower East Side, New York City, New York, United States of America</p> <p class=\"listItem__property relative\"> <strong class=\"listItem__property--name inlineBlock\">Profession:</strong> Businessperson, Investor, Entrepreneur</p><p class=\"listItem__propertyTitle relative black robotoC\">Also Ranked</p> <p class=\"listItem__property listItem__property--alsoRanked relative\"> <strong class=\"listItem__property--name inlineBlock\">#38</strong> on <a href=\"//www.ranker.com/list/most-influential-ceos-all-time/ready-to-startup?ref=also_ranked\">The Most Influential CEOs of All Time</a> </p> <p class=\"listItem__property listItem__property--alsoRanked relative\"> <strong class=\"listItem__property--name inlineBlock\">#7</strong> on <a href=\"//www.ranker.com/list/the-most-irreplaceable-ceos-in-the-world/ready-to-startup?ref=also_ranked\">The Most Irreplaceable CEOs in the World</a> </p> <p class=\"listItem__property listItem__property--alsoRanked relative\"> <strong class=\"listItem__property--name inlineBlock\">#16</strong> on <a href=\"//www.ranker.com/list/who-should-buy-the-los-angeles-clippers/ranker-nba?ref=also_ranked\">Who Should Buy the Los Angeles Clippers?</a> </p> <span class=\"listItem__nodeMore block\"> see more on <a class=\"listItem__nodeMoreLink relative\" href=\"//www.ranker.com/review/larry-ellison/1413360\"> Larry Ellison<svg class=\"rsvg listItem__nodeMoreIcon relative inlineBlock\"> <use href=\"#rsvg__arrows--chevronRight\" xlink:href=\"#rsvg__arrows--chevronRight\"></use> </svg> </a> </span> <div class=\"ad ad__adunit ad__adunit--728 ad__adunit--listItem ad__adunit--listItem-blog center instapaper_ignore $eiv\" data-eiv-callback=\"displayAdCallback\" data-eiv-clearinview=\"false\" data-eiv-namespace=\"RDFP\" data-eiv-offset=\"600\" id=\"DESKTOP_BLOG_IL_02\"> </div> </div> <div class=\"listItem__rightRail--blogContainer\"> <div class=\"ad ad--noHead ad__adunit ad__adunit--250 ad__adunit--rightRail instapaper_ignore $eiv\" data-eiv-callback=\"displayAdCallback\" data-eiv-clearinview=\"false\" data-eiv-namespace=\"RDFP\" data-eiv-offset=\"600\" id=\"DESKTOP_BLOG_RR_03\"> </div> <div class=\"listItem__rightRail--blog relative $eiv\" data-eiv-callback=\"RView.liftIgnite.getRightRailSlots\" data-eiv-clearinview=\"true\" data-eiv-offset=\"50\"> <a class=\"related__item related__item--rightRail flex relative center\" data-algo=\"16\" data-classes=\"related__item--rightRail\" data-image=\"https://imgix.ranker.com/list_img_v2/2454/1742454/original/trashy-facebook-posts?w=427&amp;h=223&amp;fit=crop&amp;q=50&amp;fm=jpg\" data-position=\"3\" data-ri=\"\" data-slot=\"RIGHT_RAIL\" data-votable=\"true\" href=\"//www.ranker.com/list/trashy-facebook-posts/randy-cobb?ref=lzyrltdlstszerg_rr\" style=\"background-image:url(https://imgix.ranker.com/list_img_v2/2454/1742454/original/trashy-facebook-posts?w=427&amp;h=223&amp;fit=crop&amp;q=50&amp;fm=jpg)\" title=\" 46 of the Trashiest Things Ever Posted on Facebook \"> <span class=\"related__itemMeta whiteBg black flex robotoL\"> 46 of the Trashiest Things Ever Posted on Facebook </span> </a></div> </div></div> <div class=\"listItem listItem--blog relative flex \" data-islistafterlist=\"false\" data-node-id=\"2004857\" itemprop=\"itemListElement\" itemscope=\"\" itemtype=\"//schema.org/ListItem\" role=\"listitem\"> <div class=\"listItem__content--blog relative\"> <figure class=\"listItem__figure relative\"> <img alt=\"Sergey Brin is listed (or ranked) 4 on the list The Most Successful Entrepreneurs In The World\" class=\"lazyload listItem__image listItem__image--blog\" data-sizes=\"auto\" data-src=\"https://imgix.ranker.com/node_img/101/2004857/original/sergey-brin-all-people-photo-1?w=650&amp;q=50&amp;fm=jpg&amp;fit=crop&amp;crop=faces\" itemprop=\"image\" src=\"https://imgix.ranker.com/node_img/101/2004857/original/sergey-brin-all-people-photo-1?w=650&amp;blur=200&amp;px=16&amp;fm=jpg&amp;fit=crop\"/> <!--googleoff: all--> <figcaption class=\"rankerList__caption block relative midGrey\">Photo: <a class=\"rankerList__captionLink\" href=\"http://freebase.com/m/02dvbr_\" rel=\"nofollow\" target=\"_blank\">Metaweb (FB)</a>/<a class=\"rankerList__captionLink\" href=\"http://creativecommons.org/licenses/by/2.5/\" rel=\"nofollow\" target=\"_blank\">CC-BY-2.5</a></figcaption> <!--googleon: all--> </figure><meta content=\"4\" itemprop=\"position\"/> <div class=\"listItem__title listItem__title--blog flex\"> <div class=\"listItem__ranking listItem__ranking--blog flex\"> <strong class=\"listItem__rank listItem__rank--blog inlineBlock center robotoC instapaper_ignore\">4</strong> </div> <h2 class=\"listItem__h2 listItem__h2--blog flex\"> <span class=\"listItem__info listItem__info--blog block\"> </span> <meta content=\"Sergey Brin\" itemprop=\"name\"/> <a class=\"listItem__h2Link black\" href=\"//www.ranker.com/review/sergey-brin/2004857?ref=node_name&amp;pos=4&amp;a=0&lt;ype=n&amp;l=300896&amp;g=1\" itemprop=\"url\" rel=\"follow\" role=\"link\">Sergey Brin</a></h2> </div> <meta content=\" Google co-founder Brin has a net worth of $47.5 billion in March 2018, making him the 13th wealthiest person in the world. \" itemprop=\"description\"/> <p>Google co-founder Brin has a net worth of $47.5 billion in March 2018, making him the <a href=\"https://www.forbes.com/billionaires/list/#version:static\" target=\"_blank\">13th wealthiest person</a> in the world.</p> <p class=\"listItem__content--wiki listItem__content--wiki-hasBlather\"> Sergey Brin, a native of Moscow, received a bachelor of science degree with honors in mathematics and computer science from the University of Maryland at College Park. He is currently on leave from the Ph.D. program in computer science at Stanford University, where he received his master's degree. Sergey is a recipient of a National Science Foundation Graduate Fellowship as well as an honorary MBA from Instituto de Empresa. It was at Stanford where he met Larry Page and worked on the project that became Google. Together they founded Google Inc. in 1998, and Sergey continues to share responsibility for day-to-day operations with Larry Page and Eric Schmidt. Sergey's research<a href=\"http://en.wikipedia.org/wiki/Sergey_Brin\" role=\"link\" target=\"_blank\"> ...more on Wikipedia</a> </p> <p class=\"listItem__property relative\"> <strong class=\"listItem__property--name inlineBlock\">Age:</strong> 45</p> <p class=\"listItem__property relative\"> <strong class=\"listItem__property--name inlineBlock\">Birthplace:</strong> Moscow, Russia</p> <p class=\"listItem__property relative\"> <strong class=\"listItem__property--name inlineBlock\">Profession:</strong> Executive Management, Businessperson, Entrepreneur, Computer scientist, Internet Entrepreneur</p><p class=\"listItem__propertyTitle relative black robotoC\">Also Ranked</p> <p class=\"listItem__property listItem__property--alsoRanked relative\"> <strong class=\"listItem__property--name inlineBlock\">#25</strong> on <a href=\"//www.ranker.com/list/most-influential-software-programmers-of-all-time/ready-to-startup?ref=also_ranked\">The Most Influential Software Programmers of All Time</a> </p> <p class=\"listItem__property listItem__property--alsoRanked relative\"> <strong class=\"listItem__property--name inlineBlock\">#21</strong> on <a href=\"//www.ranker.com/list/real-world-avengers-villains/jtdesaulnier?ref=also_ranked\">Real World Avengers Villains</a> </p> <span class=\"listItem__nodeMore block\"> see more on <a class=\"listItem__nodeMoreLink relative\" href=\"//www.ranker.com/review/sergey-brin/2004857\"> Sergey Brin<svg class=\"rsvg listItem__nodeMoreIcon relative inlineBlock\"> <use href=\"#rsvg__arrows--chevronRight\" xlink:href=\"#rsvg__arrows--chevronRight\"></use> </svg> </a> </span> </div> <div class=\"listItem__rightRail--blogContainer\"> <div class=\"ad ad--noHead ad__adunit ad__adunit--250 ad__adunit--rightRail instapaper_ignore $eiv\" data-eiv-callback=\"displayAdCallback\" data-eiv-clearinview=\"false\" data-eiv-namespace=\"RDFP\" data-eiv-offset=\"600\" id=\"DESKTOP_BLOG_RR_04\"> </div> <div class=\"listItem__rightRail--blog relative $eiv\" data-eiv-callback=\"RView.liftIgnite.getRightRailSlots\" data-eiv-clearinview=\"true\" data-eiv-offset=\"50\"> <a class=\"related__item related__item--rightRail flex relative center\" data-algo=\"23\" data-classes=\"related__item--rightRail\" data-image=\"https://imgix.ranker.com/list_img_v2/4975/1144975/original/celebrities-born-into-wealthy-families-u2?w=427&amp;h=223&amp;fit=crop&amp;q=50&amp;fm=jpg\" data-position=\"4\" data-ri=\"\" data-slot=\"RIGHT_RAIL\" data-votable=\"false\" href=\"//www.ranker.com/list/celebrities-born-into-wealthy-families/celebrity-lists?ref=lzyrltdlstszerg_rr\" style=\"background-image:url(https://imgix.ranker.com/list_img_v2/4975/1144975/original/celebrities-born-into-wealthy-families-u2?w=427&amp;h=223&amp;fit=crop&amp;q=50&amp;fm=jpg)\" title=\" Celebrities Who Were Rich Before They Were Famous \"> <span class=\"related__itemMeta whiteBg black flex robotoL\"> Celebrities Who Were Rich Before They Were Famous </span> </a></div> </div></div> </article>>"
      ]
     },
     "execution_count": 6,
     "metadata": {},
     "output_type": "execute_result"
    }
   ],
   "source": [
    "id_check.prettify"
   ]
  },
  {
   "cell_type": "code",
   "execution_count": 7,
   "metadata": {},
   "outputs": [
    {
     "data": {
      "text/plain": [
       "4"
      ]
     },
     "execution_count": 7,
     "metadata": {},
     "output_type": "execute_result"
    }
   ],
   "source": [
    "# id_check = html_soup.find(id =\"list\")\n",
    "ent_container = id_check.find_all(\"div\", class_=\"listItem__content--blog relative\")\n",
    "len(ent_container)"
   ]
  },
  {
   "cell_type": "code",
   "execution_count": 8,
   "metadata": {},
   "outputs": [],
   "source": [
    "container = ent_container[0]\n",
    "sub_container = container.find_all(\"p\", class_ = \"listItem__property relative\")\n",
    "\n",
    "# birth = container.find_next_sibling(\"p\", class_ = \"listItem__property relative\")\n",
    "# print(age)\n",
    "# print(birth)"
   ]
  },
  {
   "cell_type": "code",
   "execution_count": 9,
   "metadata": {},
   "outputs": [
    {
     "name": "stdout",
     "output_type": "stream",
     "text": [
      "54\n"
     ]
    }
   ],
   "source": [
    "age = sub_container[0].text[6:]\n",
    "print(age)"
   ]
  },
  {
   "cell_type": "code",
   "execution_count": 10,
   "metadata": {},
   "outputs": [
    {
     "name": "stdout",
     "output_type": "stream",
     "text": [
      "Albuquerque, New Mexico, United States of America\n"
     ]
    }
   ],
   "source": [
    "birth = sub_container[1].text[13:]\n",
    "print(birth)"
   ]
  },
  {
   "cell_type": "code",
   "execution_count": 11,
   "metadata": {},
   "outputs": [
    {
     "name": "stdout",
     "output_type": "stream",
     "text": [
      "Businessperson, Entrepreneur\n"
     ]
    }
   ],
   "source": [
    "profession = sub_container[2].text[13:]\n",
    "print(profession)"
   ]
  },
  {
   "cell_type": "code",
   "execution_count": 12,
   "metadata": {},
   "outputs": [
    {
     "name": "stdout",
     "output_type": "stream",
     "text": [
      " Jeffrey Preston \"Jeff\" Bezos is an American business magnate and investor. He is a technology entrepreneur who has played a key role in the growth of e-commerce as the founder and CEO of Amazon.com, an online merchant of books and later of a wide variety of products. Under his guidance, Amazon.com became the largest retailer on the World Wide Web and a top model for Internet sales. In 2013, Bezos purchased The Washington Post newspaper. As of March 2015, Bezos's personal wealth is estimated to be US$34.8 billion, ranking him number 15 on the Forbes list of billionaires. ...more on Wikipedia \n"
     ]
    }
   ],
   "source": [
    "desc=container.find(\"p\", class_=\"listItem__content--wiki listItem__content--wiki-hasBlather\").text\n",
    "print(desc)"
   ]
  },
  {
   "cell_type": "code",
   "execution_count": 13,
   "metadata": {
    "scrolled": true
   },
   "outputs": [
    {
     "name": "stdout",
     "output_type": "stream",
     "text": [
      "['Jeff Bezos', 'Bill Gates', 'Larry Ellison', 'Sergey Brin']\n",
      "[54, 62, 74, 45]\n",
      "[' Jeffrey Preston \"Jeff\" Bezos is an American business magnate and investor. He is a technology entrepreneur who has played a key role in the growth of e-commerce as the founder and CEO of Amazon.com, an online merchant of books and later of a wide variety of products. Under his guidance, Amazon.com became the largest retailer on the World Wide Web and a top model for Internet sales. In 2013, Bezos purchased The Washington Post newspaper. As of March 2015, Bezos\\'s personal wealth is estimated to be US$34.8 billion, ranking him number 15 on the Forbes list of billionaires. ...more on Wikipedia ', ' William Henry \"Bill\" Gates III is an American business magnate, philanthropist, investor, computer programmer, and inventor. Gates originally established his reputation as the co-founder of Microsoft, the world’s largest PC software company, with Paul Allen. During his career at Microsoft, Gates held the positions of chairman, CEO and chief software architect, and was also the largest individual shareholder until May 2014. He has also authored and co-authored several books. Today he is consistently ranked in the Forbes list of the world\\'s wealthiest people and was the wealthiest overall from 1995 to 2014—excluding a few brief periods post-2008. Between 2009 and 2014 his wealth more than ...more on Wikipedia ', ' Lawrence Joseph \"Larry\" Ellison is an American programmer, internet entrepreneur, adventurer, businessman and philanthropist. He was the Chief Executive Officer of the software company Oracle Corporation between its foundation in 1977 and 2014. In 2014, he was listed by Forbes as the third-wealthiest man in America and as the fifth-wealthiest person in the world, with a fortune of $56.2 billion. Ellison was born in New York City but grew up in Chicago. He studied at the University of Illinois at Urbana–Champaign and the University of Chicago without graduating before moving to California in 1966. While working at Ampex Corporation in the early 1970s, he became influenced by Edgar F. Codd\\'s ...more on Wikipedia ', \" Sergey Brin, a native of Moscow, received a bachelor of science degree with honors in mathematics and computer science from the University of Maryland at College Park. He is currently on leave from the Ph.D. program in computer science at Stanford University, where he received his master's degree. Sergey is a recipient of a National Science Foundation Graduate Fellowship as well as an honorary MBA from Instituto de Empresa. It was at Stanford where he met Larry Page and worked on the project that became Google. Together they founded Google Inc. in 1998, and Sergey continues to share responsibility for day-to-day operations with Larry Page and Eric Schmidt. Sergey's research ...more on Wikipedia \"]\n",
      "['Albuquerque, New Mexico, United States of America', 'USA, Washington, Seattle', 'Lower East Side, New York City, New York, United States of America', 'Moscow, Russia']\n",
      "['Businessperson, Entrepreneur', 'Programmer, Software Architect, Businessperson, Investor, Entrepreneur', 'Businessperson, Investor, Entrepreneur', 'Executive Management, Businessperson, Entrepreneur, Computer scientist, Internet Entrepreneur']\n"
     ]
    }
   ],
   "source": [
    "ent_name=[]\n",
    "ent_age=[]\n",
    "ent_desc=[]\n",
    "ent_birthplace=[]\n",
    "ent_profession=[]\n",
    "\n",
    "for container in ent_container:\n",
    "    \n",
    "    # Name of the Entrepreneurs\n",
    "    name = container.h2.a.text\n",
    "    ent_name.append(name)\n",
    "    \n",
    "    #Description of the ent\n",
    "    desc=container.find(\"p\", class_=\"listItem__content--wiki listItem__content--wiki-hasBlather\").text\n",
    "    ent_desc.append(desc)\n",
    "    \n",
    "    sub_container = container.find_all(\"p\", class_ = \"listItem__property relative\")\n",
    "    \n",
    "    ent_age.append(int(sub_container[0].text[6:]))\n",
    "    ent_birthplace.append(sub_container[1].text[13:])\n",
    "    ent_profession.append(sub_container[2].text[13:])\n",
    "\n",
    "    \n",
    "print(ent_name)\n",
    "print(ent_age)\n",
    "print(ent_desc)\n",
    "print(ent_birthplace)\n",
    "print(ent_profession)"
   ]
  },
  {
   "cell_type": "code",
   "execution_count": 14,
   "metadata": {},
   "outputs": [],
   "source": [
    "test_df = pd.DataFrame({\"Names\":ent_name,\n",
    "                        \"Description\":ent_desc,\n",
    "                        \"Age\":ent_age,\n",
    "                        \"Birthplace\":ent_birthplace,\n",
    "                        \"Profession\":ent_profession\n",
    "                        })"
   ]
  },
  {
   "cell_type": "code",
   "execution_count": 15,
   "metadata": {},
   "outputs": [
    {
     "data": {
      "text/html": [
       "<div>\n",
       "<style scoped>\n",
       "    .dataframe tbody tr th:only-of-type {\n",
       "        vertical-align: middle;\n",
       "    }\n",
       "\n",
       "    .dataframe tbody tr th {\n",
       "        vertical-align: top;\n",
       "    }\n",
       "\n",
       "    .dataframe thead th {\n",
       "        text-align: right;\n",
       "    }\n",
       "</style>\n",
       "<table border=\"1\" class=\"dataframe\">\n",
       "  <thead>\n",
       "    <tr style=\"text-align: right;\">\n",
       "      <th></th>\n",
       "      <th>Names</th>\n",
       "      <th>Description</th>\n",
       "      <th>Age</th>\n",
       "      <th>Birthplace</th>\n",
       "      <th>Profession</th>\n",
       "    </tr>\n",
       "  </thead>\n",
       "  <tbody>\n",
       "    <tr>\n",
       "      <th>0</th>\n",
       "      <td>Jeff Bezos</td>\n",
       "      <td>Jeffrey Preston \"Jeff\" Bezos is an American b...</td>\n",
       "      <td>54</td>\n",
       "      <td>Albuquerque, New Mexico, United States of America</td>\n",
       "      <td>Businessperson, Entrepreneur</td>\n",
       "    </tr>\n",
       "    <tr>\n",
       "      <th>1</th>\n",
       "      <td>Bill Gates</td>\n",
       "      <td>William Henry \"Bill\" Gates III is an American...</td>\n",
       "      <td>62</td>\n",
       "      <td>USA, Washington, Seattle</td>\n",
       "      <td>Programmer, Software Architect, Businessperson...</td>\n",
       "    </tr>\n",
       "    <tr>\n",
       "      <th>2</th>\n",
       "      <td>Larry Ellison</td>\n",
       "      <td>Lawrence Joseph \"Larry\" Ellison is an America...</td>\n",
       "      <td>74</td>\n",
       "      <td>Lower East Side, New York City, New York, Unit...</td>\n",
       "      <td>Businessperson, Investor, Entrepreneur</td>\n",
       "    </tr>\n",
       "    <tr>\n",
       "      <th>3</th>\n",
       "      <td>Sergey Brin</td>\n",
       "      <td>Sergey Brin, a native of Moscow, received a b...</td>\n",
       "      <td>45</td>\n",
       "      <td>Moscow, Russia</td>\n",
       "      <td>Executive Management, Businessperson, Entrepre...</td>\n",
       "    </tr>\n",
       "  </tbody>\n",
       "</table>\n",
       "</div>"
      ],
      "text/plain": [
       "           Names                                        Description  Age  \\\n",
       "0     Jeff Bezos   Jeffrey Preston \"Jeff\" Bezos is an American b...   54   \n",
       "1     Bill Gates   William Henry \"Bill\" Gates III is an American...   62   \n",
       "2  Larry Ellison   Lawrence Joseph \"Larry\" Ellison is an America...   74   \n",
       "3    Sergey Brin   Sergey Brin, a native of Moscow, received a b...   45   \n",
       "\n",
       "                                          Birthplace  \\\n",
       "0  Albuquerque, New Mexico, United States of America   \n",
       "1                           USA, Washington, Seattle   \n",
       "2  Lower East Side, New York City, New York, Unit...   \n",
       "3                                     Moscow, Russia   \n",
       "\n",
       "                                          Profession  \n",
       "0                       Businessperson, Entrepreneur  \n",
       "1  Programmer, Software Architect, Businessperson...  \n",
       "2             Businessperson, Investor, Entrepreneur  \n",
       "3  Executive Management, Businessperson, Entrepre...  "
      ]
     },
     "execution_count": 15,
     "metadata": {},
     "output_type": "execute_result"
    }
   ],
   "source": [
    "test_df"
   ]
  },
  {
   "cell_type": "code",
   "execution_count": 16,
   "metadata": {},
   "outputs": [
    {
     "data": {
      "text/html": [
       "<div>\n",
       "<style scoped>\n",
       "    .dataframe tbody tr th:only-of-type {\n",
       "        vertical-align: middle;\n",
       "    }\n",
       "\n",
       "    .dataframe tbody tr th {\n",
       "        vertical-align: top;\n",
       "    }\n",
       "\n",
       "    .dataframe thead th {\n",
       "        text-align: right;\n",
       "    }\n",
       "</style>\n",
       "<table border=\"1\" class=\"dataframe\">\n",
       "  <thead>\n",
       "    <tr style=\"text-align: right;\">\n",
       "      <th></th>\n",
       "      <th>Names</th>\n",
       "      <th>Description</th>\n",
       "      <th>Age</th>\n",
       "      <th>Birthplace</th>\n",
       "      <th>Profession</th>\n",
       "    </tr>\n",
       "  </thead>\n",
       "  <tbody>\n",
       "    <tr>\n",
       "      <th>0</th>\n",
       "      <td>Jeff Bezos</td>\n",
       "      <td>Jeffrey Preston \"Jeff\" Bezos is an American b...</td>\n",
       "      <td>54</td>\n",
       "      <td>Albuquerque, New Mexico, United States of America</td>\n",
       "      <td>Businessperson, Entrepreneur</td>\n",
       "    </tr>\n",
       "    <tr>\n",
       "      <th>1</th>\n",
       "      <td>Bill Gates</td>\n",
       "      <td>William Henry \"Bill\" Gates III is an American...</td>\n",
       "      <td>62</td>\n",
       "      <td>USA, Washington, Seattle</td>\n",
       "      <td>Programmer, Software Architect, Businessperson...</td>\n",
       "    </tr>\n",
       "    <tr>\n",
       "      <th>2</th>\n",
       "      <td>Larry Ellison</td>\n",
       "      <td>Lawrence Joseph \"Larry\" Ellison is an America...</td>\n",
       "      <td>74</td>\n",
       "      <td>Lower East Side, New York City, New York, Unit...</td>\n",
       "      <td>Businessperson, Investor, Entrepreneur</td>\n",
       "    </tr>\n",
       "    <tr>\n",
       "      <th>3</th>\n",
       "      <td>Sergey Brin</td>\n",
       "      <td>Sergey Brin, a native of Moscow, received a b...</td>\n",
       "      <td>45</td>\n",
       "      <td>Moscow, Russia</td>\n",
       "      <td>Executive Management, Businessperson, Entrepre...</td>\n",
       "    </tr>\n",
       "  </tbody>\n",
       "</table>\n",
       "</div>"
      ],
      "text/plain": [
       "           Names                                        Description  Age  \\\n",
       "0     Jeff Bezos   Jeffrey Preston \"Jeff\" Bezos is an American b...   54   \n",
       "1     Bill Gates   William Henry \"Bill\" Gates III is an American...   62   \n",
       "2  Larry Ellison   Lawrence Joseph \"Larry\" Ellison is an America...   74   \n",
       "3    Sergey Brin   Sergey Brin, a native of Moscow, received a b...   45   \n",
       "\n",
       "                                          Birthplace  \\\n",
       "0  Albuquerque, New Mexico, United States of America   \n",
       "1                           USA, Washington, Seattle   \n",
       "2  Lower East Side, New York City, New York, Unit...   \n",
       "3                                     Moscow, Russia   \n",
       "\n",
       "                                          Profession  \n",
       "0                       Businessperson, Entrepreneur  \n",
       "1  Programmer, Software Architect, Businessperson...  \n",
       "2             Businessperson, Investor, Entrepreneur  \n",
       "3  Executive Management, Businessperson, Entrepre...  "
      ]
     },
     "execution_count": 16,
     "metadata": {},
     "output_type": "execute_result"
    }
   ],
   "source": [
    "test_df"
   ]
  },
  {
   "cell_type": "markdown",
   "metadata": {},
   "source": [
    "### Twitter API"
   ]
  },
  {
   "cell_type": "code",
   "execution_count": 17,
   "metadata": {},
   "outputs": [],
   "source": [
    "import tweepy\n",
    "import csv\n",
    "import pandas as pd"
   ]
  },
  {
   "cell_type": "code",
   "execution_count": 18,
   "metadata": {},
   "outputs": [],
   "source": [
    "import tweepy\n",
    "from tweepy import Stream\n",
    "from tweepy import OAuthHandler\n",
    "from tweepy.streaming import StreamListener\n",
    "CONSUMER_KEY = 'MY1ZVLa2MTSd2BEhmYnOpsJlX'\n",
    "CONSUMER_SECRET = 'Hk6ukIogqZR1XigLfQ7cjYJFwt253yI055WhBNeBWzDSZoapqw'\n",
    "ACCESS_KEY = '2913447402-r2Fyv5G7KsT9pdEnV1gNwPk1QtfE915HceObao9'\n",
    "ACCESS_SECRET = 'MUkhfzRwUvGdxqbA8a9CmoE2E1VX4m4ydRVQr1evvCTJp'\n",
    "\n",
    "auth = OAuthHandler(CONSUMER_KEY,CONSUMER_SECRET)\n",
    "api = tweepy.API(auth)\n",
    "\n",
    "auth.set_access_token(ACCESS_KEY, ACCESS_SECRET)"
   ]
  },
  {
   "cell_type": "code",
   "execution_count": 19,
   "metadata": {},
   "outputs": [
    {
     "name": "stdout",
     "output_type": "stream",
     "text": [
      "JeffBezos\n",
      "Amazon, Blue Origin, Washington Post\n",
      "772556\n",
      "184\n",
      "True\n"
     ]
    }
   ],
   "source": [
    "user = api.get_user('JeffBezos')\n",
    "print (user.screen_name)\n",
    "print (user.description)\n",
    "print (user.followers_count)\n",
    "print (user.statuses_count)\n",
    "print (user.verified)"
   ]
  },
  {
   "cell_type": "code",
   "execution_count": 20,
   "metadata": {},
   "outputs": [
    {
     "name": "stdout",
     "output_type": "stream",
     "text": [
      "[568]\n"
     ]
    }
   ],
   "source": [
    "notweets=[]\n",
    "ent_noTweet=[]\n",
    "\n",
    "for tweet in tweepy.Cursor(api.search,q=\"#jeffbezos\",count=100,\n",
    "                           lang=\"en\",\n",
    "                           since=\"2019-01-19\").items():\n",
    "    notweets.append(tweet.text)\n",
    "len(notweets)\n",
    "ent_noTweet.append(len(notweets))\n",
    "print(ent_noTweet)"
   ]
  },
  {
   "cell_type": "code",
   "execution_count": 21,
   "metadata": {},
   "outputs": [],
   "source": [
    "ent_tw_screenname=[]\n",
    "ent_tw_desc=[]\n",
    "ent_tw_followers_count=[]\n",
    "ent_tw_statuses_count=[]\n",
    "ent_tw_verified=[]\n",
    "\n",
    "def twitter(name):\n",
    "    for names in name:\n",
    "        textCamel=names.title()\n",
    "        finalText=textCamel.replace(' ', '')\n",
    "#         print(finalText)\n",
    "        user = api.get_user(names)\n",
    "        print(user.screen_name)\n",
    "        ent_tw_screenname.append(user.screen_name)\n",
    "        print(user.description)\n",
    "        ent_tw_desc.append(user.description)\n",
    "        print(user.followers_count)\n",
    "        ent_tw_followers_count.append(user.followers_count)\n",
    "        print(user.statuses_count)\n",
    "        ent_tw_statuses_count.append(user.statuses_count)\n",
    "        print(user.verified)\n",
    "        ent_tw_verified.append(user.verified)\n",
    "        print()"
   ]
  },
  {
   "cell_type": "code",
   "execution_count": 22,
   "metadata": {},
   "outputs": [
    {
     "name": "stdout",
     "output_type": "stream",
     "text": [
      "[]\n",
      "[]\n",
      "[]\n",
      "[]\n",
      "[]\n"
     ]
    }
   ],
   "source": [
    "try:\n",
    "    twitter(ent_name)\n",
    "except:\n",
    "#     print(\"handles exception\")\n",
    "#     print(user.screen_name)\n",
    "#     print(user.description)\n",
    "#     print(user.followers_count)\n",
    "#     print(user.statuses_count)\n",
    "#     print(user.verified)\n",
    "    print(ent_tw_screenname)\n",
    "    print(ent_tw_desc)\n",
    "    print(ent_tw_followers_count)\n",
    "    print(ent_tw_statuses_count)\n",
    "    print(ent_tw_verified)"
   ]
  },
  {
   "cell_type": "code",
   "execution_count": 23,
   "metadata": {},
   "outputs": [],
   "source": [
    "ent_tw_screenname=[]\n",
    "ent_tw_desc=[]\n",
    "ent_tw_followers_count=[]\n",
    "ent_tw_statuses_count=[]\n",
    "ent_tw_verified=[]\n",
    "\n",
    "\n",
    "user = api.get_user('JeffBezos')\n",
    "# print (user.screen_name)\n",
    "# print (user.description)\n",
    "# print (user.followers_count)\n",
    "# print (user.statuses_count)\n",
    "# print (user.verified)\n",
    "\n",
    "ent_tw_screenname.append(user.screen_name)\n",
    "ent_tw_desc.append(user.description)\n",
    "ent_tw_followers_count.append(user.followers_count)\n",
    "ent_tw_statuses_count.append(user.statuses_count)\n",
    "ent_tw_verified.append(user.verified)\n",
    "\n",
    "user = api.get_user('BillGates')\n",
    "# print (user.screen_name)\n",
    "# print (user.description)\n",
    "# print (user.followers_count)\n",
    "# print (user.statuses_count)\n",
    "# print (user.verified)\n",
    "\n",
    "ent_tw_screenname.append(user.screen_name)\n",
    "ent_tw_desc.append(user.description)\n",
    "ent_tw_followers_count.append(user.followers_count)\n",
    "ent_tw_statuses_count.append(user.statuses_count)\n",
    "ent_tw_verified.append(user.verified)\n",
    "\n",
    "user = api.get_user('LarryEllison')\n",
    "# print (user.screen_name)\n",
    "# print (user.description)\n",
    "# print (user.followers_count)\n",
    "# print (user.statuses_count)\n",
    "# print (user.verified)\n",
    "\n",
    "ent_tw_screenname.append(user.screen_name)\n",
    "ent_tw_desc.append(user.description)\n",
    "ent_tw_followers_count.append(user.followers_count)\n",
    "ent_tw_statuses_count.append(user.statuses_count)\n",
    "ent_tw_verified.append(user.verified)\n",
    "\n",
    "user = api.get_user('Plaid_Brin')\n",
    "ent_tw_screenname.append(user.screen_name)\n",
    "ent_tw_desc.append(user.description)\n",
    "ent_tw_followers_count.append(user.followers_count)\n",
    "ent_tw_statuses_count.append(user.statuses_count)\n",
    "ent_tw_verified.append(user.verified)\n",
    "# ent_tw_screenname.append(\" \")\n",
    "# ent_tw_desc.append(\" \")\n",
    "# ent_tw_followers_count.append(\" \")\n",
    "# ent_tw_statuses_count.append(\" \")\n",
    "# ent_tw_verified.append(\" \")"
   ]
  },
  {
   "cell_type": "code",
   "execution_count": 24,
   "metadata": {},
   "outputs": [],
   "source": [
    "test_df = pd.DataFrame({\"Names\":ent_name,\n",
    "                        \"Description\":ent_desc,\n",
    "                        \"Age\":ent_age,\n",
    "                        \"Birthplace\":ent_birthplace,\n",
    "                        \"Profession\":ent_profession,\n",
    "                        \"Twitter Screen name\":ent_tw_screenname,\n",
    "                        \"Twitter Description\":ent_tw_desc,\n",
    "                        \"Twitter Followers Count\":ent_tw_followers_count,\n",
    "                        \"Twitter Status Count\":ent_tw_statuses_count,\n",
    "                        \"Twitter Verified\":ent_tw_verified\n",
    "                        })"
   ]
  },
  {
   "cell_type": "code",
   "execution_count": 25,
   "metadata": {},
   "outputs": [
    {
     "data": {
      "text/html": [
       "<div>\n",
       "<style scoped>\n",
       "    .dataframe tbody tr th:only-of-type {\n",
       "        vertical-align: middle;\n",
       "    }\n",
       "\n",
       "    .dataframe tbody tr th {\n",
       "        vertical-align: top;\n",
       "    }\n",
       "\n",
       "    .dataframe thead th {\n",
       "        text-align: right;\n",
       "    }\n",
       "</style>\n",
       "<table border=\"1\" class=\"dataframe\">\n",
       "  <thead>\n",
       "    <tr style=\"text-align: right;\">\n",
       "      <th></th>\n",
       "      <th>Names</th>\n",
       "      <th>Description</th>\n",
       "      <th>Age</th>\n",
       "      <th>Birthplace</th>\n",
       "      <th>Profession</th>\n",
       "      <th>Twitter Screen name</th>\n",
       "      <th>Twitter Description</th>\n",
       "      <th>Twitter Followers Count</th>\n",
       "      <th>Twitter Status Count</th>\n",
       "      <th>Twitter Verified</th>\n",
       "    </tr>\n",
       "  </thead>\n",
       "  <tbody>\n",
       "    <tr>\n",
       "      <th>0</th>\n",
       "      <td>Jeff Bezos</td>\n",
       "      <td>Jeffrey Preston \"Jeff\" Bezos is an American b...</td>\n",
       "      <td>54</td>\n",
       "      <td>Albuquerque, New Mexico, United States of America</td>\n",
       "      <td>Businessperson, Entrepreneur</td>\n",
       "      <td>JeffBezos</td>\n",
       "      <td>Amazon, Blue Origin, Washington Post</td>\n",
       "      <td>772556</td>\n",
       "      <td>184</td>\n",
       "      <td>True</td>\n",
       "    </tr>\n",
       "    <tr>\n",
       "      <th>1</th>\n",
       "      <td>Bill Gates</td>\n",
       "      <td>William Henry \"Bill\" Gates III is an American...</td>\n",
       "      <td>62</td>\n",
       "      <td>USA, Washington, Seattle</td>\n",
       "      <td>Programmer, Software Architect, Businessperson...</td>\n",
       "      <td>BillGates</td>\n",
       "      <td>Sharing things I'm learning through my foundat...</td>\n",
       "      <td>46317211</td>\n",
       "      <td>2944</td>\n",
       "      <td>True</td>\n",
       "    </tr>\n",
       "    <tr>\n",
       "      <th>2</th>\n",
       "      <td>Larry Ellison</td>\n",
       "      <td>Lawrence Joseph \"Larry\" Ellison is an America...</td>\n",
       "      <td>74</td>\n",
       "      <td>Lower East Side, New York City, New York, Unit...</td>\n",
       "      <td>Businessperson, Investor, Entrepreneur</td>\n",
       "      <td>larryellison</td>\n",
       "      <td></td>\n",
       "      <td>102255</td>\n",
       "      <td>1</td>\n",
       "      <td>True</td>\n",
       "    </tr>\n",
       "    <tr>\n",
       "      <th>3</th>\n",
       "      <td>Sergey Brin</td>\n",
       "      <td>Sergey Brin, a native of Moscow, received a b...</td>\n",
       "      <td>45</td>\n",
       "      <td>Moscow, Russia</td>\n",
       "      <td>Executive Management, Businessperson, Entrepre...</td>\n",
       "      <td>Plaid_Brin</td>\n",
       "      <td>The Plaid Avenger's updates for Google co-foun...</td>\n",
       "      <td>7663</td>\n",
       "      <td>712</td>\n",
       "      <td>False</td>\n",
       "    </tr>\n",
       "  </tbody>\n",
       "</table>\n",
       "</div>"
      ],
      "text/plain": [
       "           Names                                        Description  Age  \\\n",
       "0     Jeff Bezos   Jeffrey Preston \"Jeff\" Bezos is an American b...   54   \n",
       "1     Bill Gates   William Henry \"Bill\" Gates III is an American...   62   \n",
       "2  Larry Ellison   Lawrence Joseph \"Larry\" Ellison is an America...   74   \n",
       "3    Sergey Brin   Sergey Brin, a native of Moscow, received a b...   45   \n",
       "\n",
       "                                          Birthplace  \\\n",
       "0  Albuquerque, New Mexico, United States of America   \n",
       "1                           USA, Washington, Seattle   \n",
       "2  Lower East Side, New York City, New York, Unit...   \n",
       "3                                     Moscow, Russia   \n",
       "\n",
       "                                          Profession Twitter Screen name  \\\n",
       "0                       Businessperson, Entrepreneur           JeffBezos   \n",
       "1  Programmer, Software Architect, Businessperson...           BillGates   \n",
       "2             Businessperson, Investor, Entrepreneur        larryellison   \n",
       "3  Executive Management, Businessperson, Entrepre...          Plaid_Brin   \n",
       "\n",
       "                                 Twitter Description  Twitter Followers Count  \\\n",
       "0               Amazon, Blue Origin, Washington Post                   772556   \n",
       "1  Sharing things I'm learning through my foundat...                 46317211   \n",
       "2                                                                      102255   \n",
       "3  The Plaid Avenger's updates for Google co-foun...                     7663   \n",
       "\n",
       "   Twitter Status Count  Twitter Verified  \n",
       "0                   184              True  \n",
       "1                  2944              True  \n",
       "2                     1              True  \n",
       "3                   712             False  "
      ]
     },
     "execution_count": 25,
     "metadata": {},
     "output_type": "execute_result"
    }
   ],
   "source": [
    "test_df"
   ]
  },
  {
   "cell_type": "markdown",
   "metadata": {},
   "source": [
    "### CSV data"
   ]
  },
  {
   "cell_type": "code",
   "execution_count": 26,
   "metadata": {},
   "outputs": [
    {
     "data": {
      "text/html": [
       "<div>\n",
       "<style scoped>\n",
       "    .dataframe tbody tr th:only-of-type {\n",
       "        vertical-align: middle;\n",
       "    }\n",
       "\n",
       "    .dataframe tbody tr th {\n",
       "        vertical-align: top;\n",
       "    }\n",
       "\n",
       "    .dataframe thead th {\n",
       "        text-align: right;\n",
       "    }\n",
       "</style>\n",
       "<table border=\"1\" class=\"dataframe\">\n",
       "  <thead>\n",
       "    <tr style=\"text-align: right;\">\n",
       "      <th></th>\n",
       "      <th>Unnamed: 0</th>\n",
       "      <th>Net Worth</th>\n",
       "      <th>Spouse</th>\n",
       "      <th>No. of Children</th>\n",
       "      <th>Education</th>\n",
       "    </tr>\n",
       "  </thead>\n",
       "  <tbody>\n",
       "    <tr>\n",
       "      <th>0</th>\n",
       "      <td>0</td>\n",
       "      <td>US$137 billion (January 2019)</td>\n",
       "      <td>MacKenzie Tuttle (m. 1993) (separated)</td>\n",
       "      <td>4</td>\n",
       "      <td>Princeton University (BS)</td>\n",
       "    </tr>\n",
       "    <tr>\n",
       "      <th>1</th>\n",
       "      <td>1</td>\n",
       "      <td>$95.6 billion[1] (November 2018)</td>\n",
       "      <td>Melinda French (m. 1994)</td>\n",
       "      <td>3</td>\n",
       "      <td>Lakeside School, Harvard College</td>\n",
       "    </tr>\n",
       "    <tr>\n",
       "      <th>2</th>\n",
       "      <td>2</td>\n",
       "      <td>US$59.5 billion (November 2018)</td>\n",
       "      <td>Adda Quinn(m. 1967; div. 1974) Nancy Wheeler J...</td>\n",
       "      <td>2</td>\n",
       "      <td>asd</td>\n",
       "    </tr>\n",
       "    <tr>\n",
       "      <th>3</th>\n",
       "      <td>3</td>\n",
       "      <td>US$50.6 billion (October 2018)</td>\n",
       "      <td>Anne Wojcicki(m. 2007; div. 2015)</td>\n",
       "      <td>2</td>\n",
       "      <td>Stanford University</td>\n",
       "    </tr>\n",
       "  </tbody>\n",
       "</table>\n",
       "</div>"
      ],
      "text/plain": [
       "   Unnamed: 0                         Net Worth  \\\n",
       "0           0     US$137 billion (January 2019)   \n",
       "1           1  $95.6 billion[1] (November 2018)   \n",
       "2           2   US$59.5 billion (November 2018)   \n",
       "3           3    US$50.6 billion (October 2018)   \n",
       "\n",
       "                                              Spouse  No. of Children  \\\n",
       "0             MacKenzie Tuttle (m. 1993) (separated)                4   \n",
       "1                           Melinda French (m. 1994)                3   \n",
       "2  Adda Quinn(m. 1967; div. 1974) Nancy Wheeler J...                2   \n",
       "3                  Anne Wojcicki(m. 2007; div. 2015)                2   \n",
       "\n",
       "                          Education  \n",
       "0         Princeton University (BS)  \n",
       "1  Lakeside School, Harvard College  \n",
       "2                               asd  \n",
       "3               Stanford University  "
      ]
     },
     "execution_count": 26,
     "metadata": {},
     "output_type": "execute_result"
    }
   ],
   "source": [
    "wiki_tabel=pd.read_csv(\"Ent_Wiki.csv\", encoding=\"utf8\", error_bad_lines=False)\n",
    "wiki_tabel"
   ]
  },
  {
   "cell_type": "code",
   "execution_count": 27,
   "metadata": {},
   "outputs": [
    {
     "data": {
      "text/html": [
       "<div>\n",
       "<style scoped>\n",
       "    .dataframe tbody tr th:only-of-type {\n",
       "        vertical-align: middle;\n",
       "    }\n",
       "\n",
       "    .dataframe tbody tr th {\n",
       "        vertical-align: top;\n",
       "    }\n",
       "\n",
       "    .dataframe thead th {\n",
       "        text-align: right;\n",
       "    }\n",
       "</style>\n",
       "<table border=\"1\" class=\"dataframe\">\n",
       "  <thead>\n",
       "    <tr style=\"text-align: right;\">\n",
       "      <th></th>\n",
       "      <th>Names</th>\n",
       "      <th>Description</th>\n",
       "      <th>Age</th>\n",
       "      <th>Birthplace</th>\n",
       "      <th>Profession</th>\n",
       "      <th>Twitter Screen name</th>\n",
       "      <th>Twitter Description</th>\n",
       "      <th>Twitter Followers Count</th>\n",
       "      <th>Twitter Status Count</th>\n",
       "      <th>Twitter Verified</th>\n",
       "      <th>Unnamed: 0</th>\n",
       "      <th>Net Worth</th>\n",
       "      <th>Spouse</th>\n",
       "      <th>No. of Children</th>\n",
       "      <th>Education</th>\n",
       "    </tr>\n",
       "  </thead>\n",
       "  <tbody>\n",
       "    <tr>\n",
       "      <th>0</th>\n",
       "      <td>Jeff Bezos</td>\n",
       "      <td>Jeffrey Preston \"Jeff\" Bezos is an American b...</td>\n",
       "      <td>54</td>\n",
       "      <td>Albuquerque, New Mexico, United States of America</td>\n",
       "      <td>Businessperson, Entrepreneur</td>\n",
       "      <td>JeffBezos</td>\n",
       "      <td>Amazon, Blue Origin, Washington Post</td>\n",
       "      <td>772556</td>\n",
       "      <td>184</td>\n",
       "      <td>True</td>\n",
       "      <td>0</td>\n",
       "      <td>US$137 billion (January 2019)</td>\n",
       "      <td>MacKenzie Tuttle (m. 1993) (separated)</td>\n",
       "      <td>4</td>\n",
       "      <td>Princeton University (BS)</td>\n",
       "    </tr>\n",
       "    <tr>\n",
       "      <th>1</th>\n",
       "      <td>Bill Gates</td>\n",
       "      <td>William Henry \"Bill\" Gates III is an American...</td>\n",
       "      <td>62</td>\n",
       "      <td>USA, Washington, Seattle</td>\n",
       "      <td>Programmer, Software Architect, Businessperson...</td>\n",
       "      <td>BillGates</td>\n",
       "      <td>Sharing things I'm learning through my foundat...</td>\n",
       "      <td>46317211</td>\n",
       "      <td>2944</td>\n",
       "      <td>True</td>\n",
       "      <td>1</td>\n",
       "      <td>$95.6 billion[1] (November 2018)</td>\n",
       "      <td>Melinda French (m. 1994)</td>\n",
       "      <td>3</td>\n",
       "      <td>Lakeside School, Harvard College</td>\n",
       "    </tr>\n",
       "    <tr>\n",
       "      <th>2</th>\n",
       "      <td>Larry Ellison</td>\n",
       "      <td>Lawrence Joseph \"Larry\" Ellison is an America...</td>\n",
       "      <td>74</td>\n",
       "      <td>Lower East Side, New York City, New York, Unit...</td>\n",
       "      <td>Businessperson, Investor, Entrepreneur</td>\n",
       "      <td>larryellison</td>\n",
       "      <td></td>\n",
       "      <td>102255</td>\n",
       "      <td>1</td>\n",
       "      <td>True</td>\n",
       "      <td>2</td>\n",
       "      <td>US$59.5 billion (November 2018)</td>\n",
       "      <td>Adda Quinn(m. 1967; div. 1974) Nancy Wheeler J...</td>\n",
       "      <td>2</td>\n",
       "      <td>asd</td>\n",
       "    </tr>\n",
       "    <tr>\n",
       "      <th>3</th>\n",
       "      <td>Sergey Brin</td>\n",
       "      <td>Sergey Brin, a native of Moscow, received a b...</td>\n",
       "      <td>45</td>\n",
       "      <td>Moscow, Russia</td>\n",
       "      <td>Executive Management, Businessperson, Entrepre...</td>\n",
       "      <td>Plaid_Brin</td>\n",
       "      <td>The Plaid Avenger's updates for Google co-foun...</td>\n",
       "      <td>7663</td>\n",
       "      <td>712</td>\n",
       "      <td>False</td>\n",
       "      <td>3</td>\n",
       "      <td>US$50.6 billion (October 2018)</td>\n",
       "      <td>Anne Wojcicki(m. 2007; div. 2015)</td>\n",
       "      <td>2</td>\n",
       "      <td>Stanford University</td>\n",
       "    </tr>\n",
       "  </tbody>\n",
       "</table>\n",
       "</div>"
      ],
      "text/plain": [
       "           Names                                        Description  Age  \\\n",
       "0     Jeff Bezos   Jeffrey Preston \"Jeff\" Bezos is an American b...   54   \n",
       "1     Bill Gates   William Henry \"Bill\" Gates III is an American...   62   \n",
       "2  Larry Ellison   Lawrence Joseph \"Larry\" Ellison is an America...   74   \n",
       "3    Sergey Brin   Sergey Brin, a native of Moscow, received a b...   45   \n",
       "\n",
       "                                          Birthplace  \\\n",
       "0  Albuquerque, New Mexico, United States of America   \n",
       "1                           USA, Washington, Seattle   \n",
       "2  Lower East Side, New York City, New York, Unit...   \n",
       "3                                     Moscow, Russia   \n",
       "\n",
       "                                          Profession Twitter Screen name  \\\n",
       "0                       Businessperson, Entrepreneur           JeffBezos   \n",
       "1  Programmer, Software Architect, Businessperson...           BillGates   \n",
       "2             Businessperson, Investor, Entrepreneur        larryellison   \n",
       "3  Executive Management, Businessperson, Entrepre...          Plaid_Brin   \n",
       "\n",
       "                                 Twitter Description  Twitter Followers Count  \\\n",
       "0               Amazon, Blue Origin, Washington Post                   772556   \n",
       "1  Sharing things I'm learning through my foundat...                 46317211   \n",
       "2                                                                      102255   \n",
       "3  The Plaid Avenger's updates for Google co-foun...                     7663   \n",
       "\n",
       "   Twitter Status Count  Twitter Verified  Unnamed: 0  \\\n",
       "0                   184              True           0   \n",
       "1                  2944              True           1   \n",
       "2                     1              True           2   \n",
       "3                   712             False           3   \n",
       "\n",
       "                          Net Worth  \\\n",
       "0     US$137 billion (January 2019)   \n",
       "1  $95.6 billion[1] (November 2018)   \n",
       "2   US$59.5 billion (November 2018)   \n",
       "3    US$50.6 billion (October 2018)   \n",
       "\n",
       "                                              Spouse  No. of Children  \\\n",
       "0             MacKenzie Tuttle (m. 1993) (separated)                4   \n",
       "1                           Melinda French (m. 1994)                3   \n",
       "2  Adda Quinn(m. 1967; div. 1974) Nancy Wheeler J...                2   \n",
       "3                  Anne Wojcicki(m. 2007; div. 2015)                2   \n",
       "\n",
       "                          Education  \n",
       "0         Princeton University (BS)  \n",
       "1  Lakeside School, Harvard College  \n",
       "2                               asd  \n",
       "3               Stanford University  "
      ]
     },
     "execution_count": 27,
     "metadata": {},
     "output_type": "execute_result"
    }
   ],
   "source": [
    "frame = pd.concat([test_df, wiki_tabel], axis=1, sort=False)\n",
    "frame"
   ]
  },
  {
   "cell_type": "code",
   "execution_count": 28,
   "metadata": {},
   "outputs": [
    {
     "data": {
      "text/plain": [
       "Names                      0\n",
       "Description                0\n",
       "Age                        0\n",
       "Birthplace                 0\n",
       "Profession                 0\n",
       "Twitter Screen name        0\n",
       "Twitter Description        0\n",
       "Twitter Followers Count    0\n",
       "Twitter Status Count       0\n",
       "Twitter Verified           0\n",
       "Unnamed: 0                 0\n",
       "Net Worth                  0\n",
       "Spouse                     0\n",
       "No. of Children            0\n",
       "Education                  0\n",
       "dtype: int64"
      ]
     },
     "execution_count": 28,
     "metadata": {},
     "output_type": "execute_result"
    }
   ],
   "source": [
    "frame.isnull().sum()"
   ]
  },
  {
   "cell_type": "code",
   "execution_count": 29,
   "metadata": {},
   "outputs": [
    {
     "data": {
      "text/plain": [
       "''"
      ]
     },
     "execution_count": 29,
     "metadata": {},
     "output_type": "execute_result"
    }
   ],
   "source": [
    "frame['Twitter Description'][2]"
   ]
  },
  {
   "cell_type": "code",
   "execution_count": 30,
   "metadata": {},
   "outputs": [
    {
     "data": {
      "text/html": [
       "<div>\n",
       "<style scoped>\n",
       "    .dataframe tbody tr th:only-of-type {\n",
       "        vertical-align: middle;\n",
       "    }\n",
       "\n",
       "    .dataframe tbody tr th {\n",
       "        vertical-align: top;\n",
       "    }\n",
       "\n",
       "    .dataframe thead th {\n",
       "        text-align: right;\n",
       "    }\n",
       "</style>\n",
       "<table border=\"1\" class=\"dataframe\">\n",
       "  <thead>\n",
       "    <tr style=\"text-align: right;\">\n",
       "      <th></th>\n",
       "      <th>Names</th>\n",
       "      <th>Description</th>\n",
       "      <th>Age</th>\n",
       "      <th>Birthplace</th>\n",
       "      <th>Profession</th>\n",
       "      <th>Twitter Screen name</th>\n",
       "      <th>Twitter Description</th>\n",
       "      <th>Twitter Followers Count</th>\n",
       "      <th>Twitter Status Count</th>\n",
       "      <th>Twitter Verified</th>\n",
       "      <th>Unnamed: 0</th>\n",
       "      <th>Net Worth</th>\n",
       "      <th>Spouse</th>\n",
       "      <th>No. of Children</th>\n",
       "      <th>Education</th>\n",
       "    </tr>\n",
       "  </thead>\n",
       "  <tbody>\n",
       "    <tr>\n",
       "      <th>0</th>\n",
       "      <td>Jeff Bezos</td>\n",
       "      <td>Jeffrey Preston \"Jeff\" Bezos is an American b...</td>\n",
       "      <td>54</td>\n",
       "      <td>Albuquerque, New Mexico, United States of America</td>\n",
       "      <td>Businessperson, Entrepreneur</td>\n",
       "      <td>JeffBezos</td>\n",
       "      <td>Amazon, Blue Origin, Washington Post</td>\n",
       "      <td>772556</td>\n",
       "      <td>184</td>\n",
       "      <td>True</td>\n",
       "      <td>0</td>\n",
       "      <td>US$137 billion (January 2019)</td>\n",
       "      <td>MacKenzie Tuttle (m. 1993) (separated)</td>\n",
       "      <td>4</td>\n",
       "      <td>Princeton University (BS)</td>\n",
       "    </tr>\n",
       "    <tr>\n",
       "      <th>1</th>\n",
       "      <td>Bill Gates</td>\n",
       "      <td>William Henry \"Bill\" Gates III is an American...</td>\n",
       "      <td>62</td>\n",
       "      <td>USA, Washington, Seattle</td>\n",
       "      <td>Programmer, Software Architect, Businessperson...</td>\n",
       "      <td>BillGates</td>\n",
       "      <td>Sharing things I'm learning through my foundat...</td>\n",
       "      <td>46317211</td>\n",
       "      <td>2944</td>\n",
       "      <td>True</td>\n",
       "      <td>1</td>\n",
       "      <td>$95.6 billion[1] (November 2018)</td>\n",
       "      <td>Melinda French (m. 1994)</td>\n",
       "      <td>3</td>\n",
       "      <td>Lakeside School, Harvard College</td>\n",
       "    </tr>\n",
       "    <tr>\n",
       "      <th>3</th>\n",
       "      <td>Sergey Brin</td>\n",
       "      <td>Sergey Brin, a native of Moscow, received a b...</td>\n",
       "      <td>45</td>\n",
       "      <td>Moscow, Russia</td>\n",
       "      <td>Executive Management, Businessperson, Entrepre...</td>\n",
       "      <td>Plaid_Brin</td>\n",
       "      <td>The Plaid Avenger's updates for Google co-foun...</td>\n",
       "      <td>7663</td>\n",
       "      <td>712</td>\n",
       "      <td>False</td>\n",
       "      <td>3</td>\n",
       "      <td>US$50.6 billion (October 2018)</td>\n",
       "      <td>Anne Wojcicki(m. 2007; div. 2015)</td>\n",
       "      <td>2</td>\n",
       "      <td>Stanford University</td>\n",
       "    </tr>\n",
       "  </tbody>\n",
       "</table>\n",
       "</div>"
      ],
      "text/plain": [
       "         Names                                        Description  Age  \\\n",
       "0   Jeff Bezos   Jeffrey Preston \"Jeff\" Bezos is an American b...   54   \n",
       "1   Bill Gates   William Henry \"Bill\" Gates III is an American...   62   \n",
       "3  Sergey Brin   Sergey Brin, a native of Moscow, received a b...   45   \n",
       "\n",
       "                                          Birthplace  \\\n",
       "0  Albuquerque, New Mexico, United States of America   \n",
       "1                           USA, Washington, Seattle   \n",
       "3                                     Moscow, Russia   \n",
       "\n",
       "                                          Profession Twitter Screen name  \\\n",
       "0                       Businessperson, Entrepreneur           JeffBezos   \n",
       "1  Programmer, Software Architect, Businessperson...           BillGates   \n",
       "3  Executive Management, Businessperson, Entrepre...          Plaid_Brin   \n",
       "\n",
       "                                 Twitter Description  Twitter Followers Count  \\\n",
       "0               Amazon, Blue Origin, Washington Post                   772556   \n",
       "1  Sharing things I'm learning through my foundat...                 46317211   \n",
       "3  The Plaid Avenger's updates for Google co-foun...                     7663   \n",
       "\n",
       "   Twitter Status Count  Twitter Verified  Unnamed: 0  \\\n",
       "0                   184              True           0   \n",
       "1                  2944              True           1   \n",
       "3                   712             False           3   \n",
       "\n",
       "                          Net Worth                                  Spouse  \\\n",
       "0     US$137 billion (January 2019)  MacKenzie Tuttle (m. 1993) (separated)   \n",
       "1  $95.6 billion[1] (November 2018)                Melinda French (m. 1994)   \n",
       "3    US$50.6 billion (October 2018)       Anne Wojcicki(m. 2007; div. 2015)   \n",
       "\n",
       "   No. of Children                         Education  \n",
       "0                4         Princeton University (BS)  \n",
       "1                3  Lakeside School, Harvard College  \n",
       "3                2               Stanford University  "
      ]
     },
     "execution_count": 30,
     "metadata": {},
     "output_type": "execute_result"
    }
   ],
   "source": [
    "frame=frame.drop(frame.index[2])\n",
    "frame"
   ]
  },
  {
   "cell_type": "code",
   "execution_count": 31,
   "metadata": {},
   "outputs": [
    {
     "data": {
      "text/plain": [
       "Names                      object\n",
       "Description                object\n",
       "Age                         int64\n",
       "Birthplace                 object\n",
       "Profession                 object\n",
       "Twitter Screen name        object\n",
       "Twitter Description        object\n",
       "Twitter Followers Count     int64\n",
       "Twitter Status Count        int64\n",
       "Twitter Verified             bool\n",
       "Unnamed: 0                  int64\n",
       "Net Worth                  object\n",
       "Spouse                     object\n",
       "No. of Children             int64\n",
       "Education                  object\n",
       "dtype: object"
      ]
     },
     "execution_count": 31,
     "metadata": {},
     "output_type": "execute_result"
    }
   ],
   "source": [
    "frame.dtypes"
   ]
  },
  {
   "cell_type": "code",
   "execution_count": 32,
   "metadata": {
    "scrolled": false
   },
   "outputs": [
    {
     "data": {
      "text/html": [
       "<div>\n",
       "<style scoped>\n",
       "    .dataframe tbody tr th:only-of-type {\n",
       "        vertical-align: middle;\n",
       "    }\n",
       "\n",
       "    .dataframe tbody tr th {\n",
       "        vertical-align: top;\n",
       "    }\n",
       "\n",
       "    .dataframe thead th {\n",
       "        text-align: right;\n",
       "    }\n",
       "</style>\n",
       "<table border=\"1\" class=\"dataframe\">\n",
       "  <thead>\n",
       "    <tr style=\"text-align: right;\">\n",
       "      <th></th>\n",
       "      <th>Age</th>\n",
       "      <th>Twitter Followers Count</th>\n",
       "      <th>Twitter Status Count</th>\n",
       "      <th>Unnamed: 0</th>\n",
       "      <th>No. of Children</th>\n",
       "    </tr>\n",
       "  </thead>\n",
       "  <tbody>\n",
       "    <tr>\n",
       "      <th>count</th>\n",
       "      <td>3.000000</td>\n",
       "      <td>3.000000e+00</td>\n",
       "      <td>3.000000</td>\n",
       "      <td>3.000000</td>\n",
       "      <td>3.0</td>\n",
       "    </tr>\n",
       "    <tr>\n",
       "      <th>mean</th>\n",
       "      <td>53.666667</td>\n",
       "      <td>1.569914e+07</td>\n",
       "      <td>1280.000000</td>\n",
       "      <td>1.333333</td>\n",
       "      <td>3.0</td>\n",
       "    </tr>\n",
       "    <tr>\n",
       "      <th>std</th>\n",
       "      <td>8.504901</td>\n",
       "      <td>2.651878e+07</td>\n",
       "      <td>1465.048805</td>\n",
       "      <td>1.527525</td>\n",
       "      <td>1.0</td>\n",
       "    </tr>\n",
       "    <tr>\n",
       "      <th>min</th>\n",
       "      <td>45.000000</td>\n",
       "      <td>7.663000e+03</td>\n",
       "      <td>184.000000</td>\n",
       "      <td>0.000000</td>\n",
       "      <td>2.0</td>\n",
       "    </tr>\n",
       "    <tr>\n",
       "      <th>25%</th>\n",
       "      <td>49.500000</td>\n",
       "      <td>3.901095e+05</td>\n",
       "      <td>448.000000</td>\n",
       "      <td>0.500000</td>\n",
       "      <td>2.5</td>\n",
       "    </tr>\n",
       "    <tr>\n",
       "      <th>50%</th>\n",
       "      <td>54.000000</td>\n",
       "      <td>7.725560e+05</td>\n",
       "      <td>712.000000</td>\n",
       "      <td>1.000000</td>\n",
       "      <td>3.0</td>\n",
       "    </tr>\n",
       "    <tr>\n",
       "      <th>75%</th>\n",
       "      <td>58.000000</td>\n",
       "      <td>2.354488e+07</td>\n",
       "      <td>1828.000000</td>\n",
       "      <td>2.000000</td>\n",
       "      <td>3.5</td>\n",
       "    </tr>\n",
       "    <tr>\n",
       "      <th>max</th>\n",
       "      <td>62.000000</td>\n",
       "      <td>4.631721e+07</td>\n",
       "      <td>2944.000000</td>\n",
       "      <td>3.000000</td>\n",
       "      <td>4.0</td>\n",
       "    </tr>\n",
       "  </tbody>\n",
       "</table>\n",
       "</div>"
      ],
      "text/plain": [
       "             Age  Twitter Followers Count  Twitter Status Count  Unnamed: 0  \\\n",
       "count   3.000000             3.000000e+00              3.000000    3.000000   \n",
       "mean   53.666667             1.569914e+07           1280.000000    1.333333   \n",
       "std     8.504901             2.651878e+07           1465.048805    1.527525   \n",
       "min    45.000000             7.663000e+03            184.000000    0.000000   \n",
       "25%    49.500000             3.901095e+05            448.000000    0.500000   \n",
       "50%    54.000000             7.725560e+05            712.000000    1.000000   \n",
       "75%    58.000000             2.354488e+07           1828.000000    2.000000   \n",
       "max    62.000000             4.631721e+07           2944.000000    3.000000   \n",
       "\n",
       "       No. of Children  \n",
       "count              3.0  \n",
       "mean               3.0  \n",
       "std                1.0  \n",
       "min                2.0  \n",
       "25%                2.5  \n",
       "50%                3.0  \n",
       "75%                3.5  \n",
       "max                4.0  "
      ]
     },
     "execution_count": 32,
     "metadata": {},
     "output_type": "execute_result"
    }
   ],
   "source": [
    "frame.describe()"
   ]
  },
  {
   "cell_type": "code",
   "execution_count": 33,
   "metadata": {},
   "outputs": [
    {
     "data": {
      "text/plain": [
       "0    54\n",
       "1    62\n",
       "3    45\n",
       "Name: Age, dtype: int64"
      ]
     },
     "execution_count": 33,
     "metadata": {},
     "output_type": "execute_result"
    }
   ],
   "source": [
    "frame['Age']"
   ]
  },
  {
   "cell_type": "code",
   "execution_count": 34,
   "metadata": {},
   "outputs": [
    {
     "name": "stdout",
     "output_type": "stream",
     "text": [
      "<class 'pandas.core.frame.DataFrame'>\n",
      "Int64Index: 3 entries, 0 to 3\n",
      "Data columns (total 15 columns):\n",
      "Names                      3 non-null object\n",
      "Description                3 non-null object\n",
      "Age                        3 non-null int64\n",
      "Birthplace                 3 non-null object\n",
      "Profession                 3 non-null object\n",
      "Twitter Screen name        3 non-null object\n",
      "Twitter Description        3 non-null object\n",
      "Twitter Followers Count    3 non-null int64\n",
      "Twitter Status Count       3 non-null int64\n",
      "Twitter Verified           3 non-null bool\n",
      "Unnamed: 0                 3 non-null int64\n",
      "Net Worth                  3 non-null object\n",
      "Spouse                     3 non-null object\n",
      "No. of Children            3 non-null int64\n",
      "Education                  3 non-null object\n",
      "dtypes: bool(1), int64(5), object(9)\n",
      "memory usage: 363.0+ bytes\n"
     ]
    }
   ],
   "source": [
    "frame.info()"
   ]
  },
  {
   "cell_type": "code",
   "execution_count": 35,
   "metadata": {
    "scrolled": false
   },
   "outputs": [
    {
     "data": {
      "text/html": [
       "<div>\n",
       "<style scoped>\n",
       "    .dataframe tbody tr th:only-of-type {\n",
       "        vertical-align: middle;\n",
       "    }\n",
       "\n",
       "    .dataframe tbody tr th {\n",
       "        vertical-align: top;\n",
       "    }\n",
       "\n",
       "    .dataframe thead th {\n",
       "        text-align: right;\n",
       "    }\n",
       "</style>\n",
       "<table border=\"1\" class=\"dataframe\">\n",
       "  <thead>\n",
       "    <tr style=\"text-align: right;\">\n",
       "      <th></th>\n",
       "      <th>Names</th>\n",
       "      <th>Description</th>\n",
       "      <th>Age</th>\n",
       "      <th>Birthplace</th>\n",
       "      <th>Profession</th>\n",
       "      <th>Twitter Screen name</th>\n",
       "      <th>Twitter Description</th>\n",
       "      <th>Twitter Followers Count</th>\n",
       "      <th>Twitter Status Count</th>\n",
       "      <th>Twitter Verified</th>\n",
       "      <th>Unnamed: 0</th>\n",
       "      <th>Net Worth</th>\n",
       "      <th>Spouse</th>\n",
       "      <th>No. of Children</th>\n",
       "      <th>Education</th>\n",
       "    </tr>\n",
       "  </thead>\n",
       "  <tbody>\n",
       "    <tr>\n",
       "      <th>0</th>\n",
       "      <td>Jeff Bezos</td>\n",
       "      <td>Jeffrey Preston \"Jeff\" Bezos is an American b...</td>\n",
       "      <td>54</td>\n",
       "      <td>Albuquerque, New Mexico, United States of America</td>\n",
       "      <td>Businessperson, Entrepreneur</td>\n",
       "      <td>JeffBezos</td>\n",
       "      <td>Amazon, Blue Origin, Washington Post</td>\n",
       "      <td>772556</td>\n",
       "      <td>184</td>\n",
       "      <td>True</td>\n",
       "      <td>0</td>\n",
       "      <td>US$137 billion (January 2019)</td>\n",
       "      <td>MacKenzie Tuttle (m. 1993) (separated)</td>\n",
       "      <td>4</td>\n",
       "      <td>Princeton University (BS)</td>\n",
       "    </tr>\n",
       "    <tr>\n",
       "      <th>1</th>\n",
       "      <td>Bill Gates</td>\n",
       "      <td>William Henry \"Bill\" Gates III is an American...</td>\n",
       "      <td>62</td>\n",
       "      <td>USA, Washington, Seattle</td>\n",
       "      <td>Programmer, Software Architect, Businessperson...</td>\n",
       "      <td>BillGates</td>\n",
       "      <td>Sharing things I'm learning through my foundat...</td>\n",
       "      <td>46317211</td>\n",
       "      <td>2944</td>\n",
       "      <td>True</td>\n",
       "      <td>1</td>\n",
       "      <td>$95.6 billion[1] (November 2018)</td>\n",
       "      <td>Melinda French (m. 1994)</td>\n",
       "      <td>3</td>\n",
       "      <td>Lakeside School, Harvard College</td>\n",
       "    </tr>\n",
       "    <tr>\n",
       "      <th>3</th>\n",
       "      <td>Sergey Brin</td>\n",
       "      <td>Sergey Brin, a native of Moscow, received a b...</td>\n",
       "      <td>45</td>\n",
       "      <td>Moscow, Russia</td>\n",
       "      <td>Executive Management, Businessperson, Entrepre...</td>\n",
       "      <td>Plaid_Brin</td>\n",
       "      <td>The Plaid Avenger's updates for Google co-foun...</td>\n",
       "      <td>7663</td>\n",
       "      <td>712</td>\n",
       "      <td>False</td>\n",
       "      <td>3</td>\n",
       "      <td>US$50.6 billion (October 2018)</td>\n",
       "      <td>Anne Wojcicki(m. 2007; div. 2015)</td>\n",
       "      <td>2</td>\n",
       "      <td>Stanford University</td>\n",
       "    </tr>\n",
       "  </tbody>\n",
       "</table>\n",
       "</div>"
      ],
      "text/plain": [
       "         Names                                        Description  Age  \\\n",
       "0   Jeff Bezos   Jeffrey Preston \"Jeff\" Bezos is an American b...   54   \n",
       "1   Bill Gates   William Henry \"Bill\" Gates III is an American...   62   \n",
       "3  Sergey Brin   Sergey Brin, a native of Moscow, received a b...   45   \n",
       "\n",
       "                                          Birthplace  \\\n",
       "0  Albuquerque, New Mexico, United States of America   \n",
       "1                           USA, Washington, Seattle   \n",
       "3                                     Moscow, Russia   \n",
       "\n",
       "                                          Profession Twitter Screen name  \\\n",
       "0                       Businessperson, Entrepreneur           JeffBezos   \n",
       "1  Programmer, Software Architect, Businessperson...           BillGates   \n",
       "3  Executive Management, Businessperson, Entrepre...          Plaid_Brin   \n",
       "\n",
       "                                 Twitter Description  Twitter Followers Count  \\\n",
       "0               Amazon, Blue Origin, Washington Post                   772556   \n",
       "1  Sharing things I'm learning through my foundat...                 46317211   \n",
       "3  The Plaid Avenger's updates for Google co-foun...                     7663   \n",
       "\n",
       "   Twitter Status Count  Twitter Verified  Unnamed: 0  \\\n",
       "0                   184              True           0   \n",
       "1                  2944              True           1   \n",
       "3                   712             False           3   \n",
       "\n",
       "                          Net Worth                                  Spouse  \\\n",
       "0     US$137 billion (January 2019)  MacKenzie Tuttle (m. 1993) (separated)   \n",
       "1  $95.6 billion[1] (November 2018)                Melinda French (m. 1994)   \n",
       "3    US$50.6 billion (October 2018)       Anne Wojcicki(m. 2007; div. 2015)   \n",
       "\n",
       "   No. of Children                         Education  \n",
       "0                4         Princeton University (BS)  \n",
       "1                3  Lakeside School, Harvard College  \n",
       "3                2               Stanford University  "
      ]
     },
     "execution_count": 35,
     "metadata": {},
     "output_type": "execute_result"
    }
   ],
   "source": [
    "frame"
   ]
  },
  {
   "cell_type": "code",
   "execution_count": null,
   "metadata": {},
   "outputs": [],
   "source": []
  }
 ],
 "metadata": {
  "kernelspec": {
   "display_name": "Python 3",
   "language": "python",
   "name": "python3"
  },
  "language_info": {
   "codemirror_mode": {
    "name": "ipython",
    "version": 3
   },
   "file_extension": ".py",
   "mimetype": "text/x-python",
   "name": "python",
   "nbconvert_exporter": "python",
   "pygments_lexer": "ipython3",
   "version": "3.7.0"
  }
 },
 "nbformat": 4,
 "nbformat_minor": 2
}

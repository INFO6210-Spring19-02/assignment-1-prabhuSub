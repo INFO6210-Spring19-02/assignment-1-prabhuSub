{
 "cells": [
  {
   "cell_type": "code",
   "execution_count": 1,
   "metadata": {},
   "outputs": [],
   "source": [
    "from requests import get \n",
    "import pandas as pd"
   ]
  },
  {
   "cell_type": "code",
   "execution_count": 2,
   "metadata": {},
   "outputs": [],
   "source": [
    "url=\"https://en.wikipedia.org/wiki/\""
   ]
  },
  {
   "cell_type": "code",
   "execution_count": null,
   "metadata": {},
   "outputs": [],
   "source": [
    "def wiki_scrapper(url,name_list):\n",
    "    for names in name_list:\n",
    "        url_name=url+names\n",
    "        response1 = get(url_name)\n",
    "        from bs4 import BeautifulSoup as bs ## importing Beautiful Soup\n",
    "        html_soup = bs(response1.text,'html.parser')## python's in built library HTML parser\n",
    "        \n",
    "        id_check = html_soup.find(\"table\", class_ =\"infobox biography vcard\")\n",
    "        td_= id_check.find_all(\"td\")\n",
    "        # ent_container = td_.find_all(\"a\", )\n",
    "        len(td_)\n",
    "        print(td_[6].text[:-3])"
   ]
  },
  {
   "cell_type": "code",
   "execution_count": 10,
   "metadata": {},
   "outputs": [
    {
     "name": "stdout",
     "output_type": "stream",
     "text": [
      "1995–present\n",
      "Dobbs Ferry, New York, U.S.\n",
      "2 (adopted)\n"
     ]
    }
   ],
   "source": [
    "names=\"Elon Musk\"\n",
    "name=names.replace(\" \", \"_\")\n",
    "name\n",
    "name_list=[\"Elon Musk\", \"Mark Zuckerberg\", \"Vera Wang\"]\n",
    "# wiki_scrapper(url,name_list)\n",
    "for names in name_list:\n",
    "        url_name=url+names\n",
    "        response1 = get(url_name)\n",
    "        from bs4 import BeautifulSoup as bs ## importing Beautiful Soup\n",
    "        html_soup = bs(response1.text,'html.parser')## python's in built library HTML parser\n",
    "        \n",
    "        id_check = html_soup.find(\"table\", class_ =\"infobox biography vcard\")\n",
    "        td_= id_check.find_all(\"td\")\n",
    "        # ent_container = td_.find_all(\"a\", )\n",
    "        len(td_)\n",
    "        print(td_[6].text)"
   ]
  },
  {
   "cell_type": "code",
   "execution_count": null,
   "metadata": {},
   "outputs": [],
   "source": []
  }
 ],
 "metadata": {
  "kernelspec": {
   "display_name": "Python 3",
   "language": "python",
   "name": "python3"
  },
  "language_info": {
   "codemirror_mode": {
    "name": "ipython",
    "version": 3
   },
   "file_extension": ".py",
   "mimetype": "text/x-python",
   "name": "python",
   "nbconvert_exporter": "python",
   "pygments_lexer": "ipython3",
   "version": "3.7.0"
  }
 },
 "nbformat": 4,
 "nbformat_minor": 2
}

{
 "cells": [
  {
   "cell_type": "code",
   "execution_count": 137,
   "metadata": {},
   "outputs": [],
   "source": [
    "from requests import get \n",
    "import pandas as pd"
   ]
  },
  {
   "cell_type": "markdown",
   "metadata": {},
   "source": [
    "### Jeff Bezos Wiki Scrapping"
   ]
  },
  {
   "cell_type": "code",
   "execution_count": 138,
   "metadata": {},
   "outputs": [],
   "source": [
    "url1 = \"https://en.wikipedia.org/wiki/Jeff_Bezos\""
   ]
  },
  {
   "cell_type": "code",
   "execution_count": 140,
   "metadata": {},
   "outputs": [
    {
     "name": "stdout",
     "output_type": "stream",
     "text": [
      "<Response [200]>\n"
     ]
    }
   ],
   "source": [
    "response1 = get(url1)\n",
    "print(response1)"
   ]
  },
  {
   "cell_type": "code",
   "execution_count": 141,
   "metadata": {},
   "outputs": [
    {
     "data": {
      "text/plain": [
       "bs4.BeautifulSoup"
      ]
     },
     "execution_count": 141,
     "metadata": {},
     "output_type": "execute_result"
    }
   ],
   "source": [
    "from bs4 import BeautifulSoup as bs ## importing Beautiful Soup\n",
    "html_soup = bs(response1.text,'html.parser')## python's in built library HTML parser\n",
    "type(html_soup)"
   ]
  },
  {
   "cell_type": "code",
   "execution_count": 142,
   "metadata": {},
   "outputs": [],
   "source": [
    "ent_worth=[]\n",
    "ent_spouse=[]\n",
    "ent_childred=[]\n",
    "ent_education=[]"
   ]
  },
  {
   "cell_type": "code",
   "execution_count": 143,
   "metadata": {},
   "outputs": [
    {
     "data": {
      "text/plain": [
       "'US$137 billion (January 2019)'"
      ]
     },
     "execution_count": 143,
     "metadata": {},
     "output_type": "execute_result"
    }
   ],
   "source": [
    "id_check = html_soup.find(\"table\", class_ =\"infobox biography vcard\")\n",
    "td_= id_check.find_all(\"td\")\n",
    "# ent_container = td_.find_all(\"a\", )\n",
    "len(td_)\n",
    "td_[6].text[:-3]\n",
    "# print(ent_container[0].text)"
   ]
  },
  {
   "cell_type": "code",
   "execution_count": 144,
   "metadata": {},
   "outputs": [
    {
     "data": {
      "text/plain": [
       "'MacKenzie Tuttle (m.\\xa01993) (separated)'"
      ]
     },
     "execution_count": 144,
     "metadata": {},
     "output_type": "execute_result"
    }
   ],
   "source": [
    "td_[8].text"
   ]
  },
  {
   "cell_type": "code",
   "execution_count": 145,
   "metadata": {},
   "outputs": [
    {
     "data": {
      "text/plain": [
       "'4'"
      ]
     },
     "execution_count": 145,
     "metadata": {},
     "output_type": "execute_result"
    }
   ],
   "source": [
    "td_[9].text"
   ]
  },
  {
   "cell_type": "code",
   "execution_count": 146,
   "metadata": {},
   "outputs": [
    {
     "data": {
      "text/plain": [
       "'Princeton University (BS)'"
      ]
     },
     "execution_count": 146,
     "metadata": {},
     "output_type": "execute_result"
    }
   ],
   "source": [
    "td_[3].text"
   ]
  },
  {
   "cell_type": "code",
   "execution_count": 147,
   "metadata": {},
   "outputs": [],
   "source": [
    "ent_worth.append(td_[6].text[:-3])\n",
    "ent_spouse.append(td_[8].text)\n",
    "ent_childred.append(td_[9].text)\n",
    "ent_education.append(td_[3].text)"
   ]
  },
  {
   "cell_type": "markdown",
   "metadata": {},
   "source": [
    "### Bill Gates Wiki Scrapping"
   ]
  },
  {
   "cell_type": "code",
   "execution_count": 148,
   "metadata": {},
   "outputs": [],
   "source": [
    "url2 = \"https://en.wikipedia.org/wiki/Bill_Gates\""
   ]
  },
  {
   "cell_type": "code",
   "execution_count": 149,
   "metadata": {},
   "outputs": [
    {
     "name": "stdout",
     "output_type": "stream",
     "text": [
      "<Response [200]>\n"
     ]
    }
   ],
   "source": [
    "response2 = get(url2)\n",
    "print(response2)"
   ]
  },
  {
   "cell_type": "code",
   "execution_count": 150,
   "metadata": {},
   "outputs": [
    {
     "data": {
      "text/plain": [
       "bs4.BeautifulSoup"
      ]
     },
     "execution_count": 150,
     "metadata": {},
     "output_type": "execute_result"
    }
   ],
   "source": [
    "from bs4 import BeautifulSoup as bs ## importing Beautiful Soup\n",
    "html_soup = bs(response2.text,'html.parser')## python's in built library HTML parser\n",
    "type(html_soup)"
   ]
  },
  {
   "cell_type": "code",
   "execution_count": 151,
   "metadata": {},
   "outputs": [
    {
     "data": {
      "text/plain": [
       "'$95.6\\xa0billion[1] (November 2018)'"
      ]
     },
     "execution_count": 151,
     "metadata": {},
     "output_type": "execute_result"
    }
   ],
   "source": [
    "id_check = html_soup.find(\"table\", class_ =\"infobox biography vcard\")\n",
    "td_= id_check.find_all(\"td\")\n",
    "len(td_)\n",
    "td_[5].text"
   ]
  },
  {
   "cell_type": "code",
   "execution_count": 152,
   "metadata": {},
   "outputs": [
    {
     "data": {
      "text/plain": [
       "'Melinda French (m.\\xa01994)'"
      ]
     },
     "execution_count": 152,
     "metadata": {},
     "output_type": "execute_result"
    }
   ],
   "source": [
    "td_[8].text"
   ]
  },
  {
   "cell_type": "code",
   "execution_count": 153,
   "metadata": {},
   "outputs": [
    {
     "data": {
      "text/plain": [
       "'3'"
      ]
     },
     "execution_count": 153,
     "metadata": {},
     "output_type": "execute_result"
    }
   ],
   "source": [
    "td_[9].text"
   ]
  },
  {
   "cell_type": "code",
   "execution_count": 154,
   "metadata": {},
   "outputs": [],
   "source": [
    "ent_worth.append(td_[5].text)\n",
    "ent_spouse.append(td_[8].text)\n",
    "ent_childred.append(td_[9].text)\n",
    "ent_education.append(\"\")"
   ]
  },
  {
   "cell_type": "markdown",
   "metadata": {},
   "source": [
    "### Larry Ellison Wiki Srapping"
   ]
  },
  {
   "cell_type": "code",
   "execution_count": 155,
   "metadata": {},
   "outputs": [],
   "source": [
    "url3= \"https://en.wikipedia.org/wiki/Larry_Ellison\""
   ]
  },
  {
   "cell_type": "code",
   "execution_count": 156,
   "metadata": {},
   "outputs": [
    {
     "name": "stdout",
     "output_type": "stream",
     "text": [
      "<Response [200]>\n"
     ]
    }
   ],
   "source": [
    "response3 = get(url3)\n",
    "print(response3)"
   ]
  },
  {
   "cell_type": "code",
   "execution_count": 158,
   "metadata": {},
   "outputs": [
    {
     "data": {
      "text/plain": [
       "bs4.BeautifulSoup"
      ]
     },
     "execution_count": 158,
     "metadata": {},
     "output_type": "execute_result"
    }
   ],
   "source": [
    "from bs4 import BeautifulSoup as bs ## importing Beautiful Soup\n",
    "html_soup = bs(response3.text,'html.parser')## python's in built library HTML parser\n",
    "type(html_soup)"
   ]
  },
  {
   "cell_type": "code",
   "execution_count": 159,
   "metadata": {},
   "outputs": [
    {
     "data": {
      "text/plain": [
       "' US$59.5 billion (November 2018)'"
      ]
     },
     "execution_count": 159,
     "metadata": {},
     "output_type": "execute_result"
    }
   ],
   "source": [
    "id_check = html_soup.find(\"table\", class_ =\"infobox biography vcard\")\n",
    "td_= id_check.find_all(\"td\")\n",
    "len(td_)\n",
    "td_[9].text[:-4]"
   ]
  },
  {
   "cell_type": "code",
   "execution_count": 160,
   "metadata": {},
   "outputs": [
    {
     "name": "stdout",
     "output_type": "stream",
     "text": [
      "Adda Quinn(m. 1967; div. 1974) Nancy Wheeler Jenkins(m. 1977; div. 1978) Barbara Boothe(m. 1983; div. 1986) Melanie Craft(m. 2003; div. 2010) \n"
     ]
    }
   ],
   "source": [
    "text=td_[11].text[1:].replace(\"\\n\", \" \")\n",
    "print(text)"
   ]
  },
  {
   "cell_type": "code",
   "execution_count": 161,
   "metadata": {},
   "outputs": [
    {
     "name": "stdout",
     "output_type": "stream",
     "text": [
      "<td><div class=\"plainlist\">\n",
      "<ul><li><a href=\"/wiki/David_Ellison\" title=\"David Ellison\">David Ellison</a></li>\n",
      "<li><a href=\"/wiki/Megan_Ellison\" title=\"Megan Ellison\">Megan Ellison</a></li></ul>\n",
      "</div></td>\n",
      "\n",
      "David Ellison\n",
      "Megan Ellison\n",
      "\n"
     ]
    },
    {
     "data": {
      "text/plain": [
       "2"
      ]
     },
     "execution_count": 161,
     "metadata": {},
     "output_type": "execute_result"
    }
   ],
   "source": [
    "td_[12].find()\n",
    "print(td_[12])\n",
    "print(td_[12].text)\n",
    "child_text=td_[12].find_all(\"a\")\n",
    "len(child_text)"
   ]
  },
  {
   "cell_type": "code",
   "execution_count": 162,
   "metadata": {},
   "outputs": [],
   "source": [
    "ent_worth.append(td_[9].text[:-4])\n",
    "ent_spouse.append(text)\n",
    "ent_childred.append(len(child_text))\n",
    "ent_education.append(\"\")"
   ]
  },
  {
   "cell_type": "markdown",
   "metadata": {},
   "source": [
    "### Sergey Brin Wiki Scrapping"
   ]
  },
  {
   "cell_type": "code",
   "execution_count": 163,
   "metadata": {},
   "outputs": [
    {
     "name": "stdout",
     "output_type": "stream",
     "text": [
      "<Response [200]>\n"
     ]
    },
    {
     "data": {
      "text/plain": [
       "bs4.BeautifulSoup"
      ]
     },
     "execution_count": 163,
     "metadata": {},
     "output_type": "execute_result"
    }
   ],
   "source": [
    "url4=\"https://en.wikipedia.org/wiki/Sergey_Brin\"\n",
    "response4 = get(url4)\n",
    "print(response4)\n",
    "from bs4 import BeautifulSoup as bs ## importing Beautiful Soup\n",
    "html_soup = bs(response4.text,'html.parser')## python's in built library HTML parser\n",
    "type(html_soup)"
   ]
  },
  {
   "cell_type": "code",
   "execution_count": 164,
   "metadata": {},
   "outputs": [
    {
     "data": {
      "text/plain": [
       "'US$50.6 billion (October 2018)'"
      ]
     },
     "execution_count": 164,
     "metadata": {},
     "output_type": "execute_result"
    }
   ],
   "source": [
    "id_check = html_soup.find(\"table\", class_ =\"infobox biography vcard\")\n",
    "td_= id_check.find_all(\"td\")\n",
    "len(td_)\n",
    "td_[8].text[:-3]"
   ]
  },
  {
   "cell_type": "code",
   "execution_count": 165,
   "metadata": {},
   "outputs": [
    {
     "name": "stdout",
     "output_type": "stream",
     "text": [
      "Anne Wojcicki(m. 2007; div. 2015)\n"
     ]
    }
   ],
   "source": [
    "text=print(td_[10].text)"
   ]
  },
  {
   "cell_type": "code",
   "execution_count": 166,
   "metadata": {},
   "outputs": [
    {
     "data": {
      "text/plain": [
       "'2'"
      ]
     },
     "execution_count": 166,
     "metadata": {},
     "output_type": "execute_result"
    }
   ],
   "source": [
    "td_[11].text"
   ]
  },
  {
   "cell_type": "code",
   "execution_count": 167,
   "metadata": {},
   "outputs": [],
   "source": [
    "ent_worth.append(td_[8].text[:-3])\n",
    "ent_spouse.append(td_[10].text)\n",
    "ent_childred.append(td_[11].text)\n",
    "ent_education.append(\"\")"
   ]
  },
  {
   "cell_type": "code",
   "execution_count": 168,
   "metadata": {},
   "outputs": [
    {
     "data": {
      "text/html": [
       "<div>\n",
       "<style scoped>\n",
       "    .dataframe tbody tr th:only-of-type {\n",
       "        vertical-align: middle;\n",
       "    }\n",
       "\n",
       "    .dataframe tbody tr th {\n",
       "        vertical-align: top;\n",
       "    }\n",
       "\n",
       "    .dataframe thead th {\n",
       "        text-align: right;\n",
       "    }\n",
       "</style>\n",
       "<table border=\"1\" class=\"dataframe\">\n",
       "  <thead>\n",
       "    <tr style=\"text-align: right;\">\n",
       "      <th></th>\n",
       "      <th>Net Worth</th>\n",
       "      <th>Spouse</th>\n",
       "      <th>No. of Children</th>\n",
       "      <th>Education</th>\n",
       "    </tr>\n",
       "  </thead>\n",
       "  <tbody>\n",
       "    <tr>\n",
       "      <th>0</th>\n",
       "      <td>US$137 billion (January 2019)</td>\n",
       "      <td>MacKenzie Tuttle (m. 1993) (separated)</td>\n",
       "      <td>4</td>\n",
       "      <td>Princeton University (BS)</td>\n",
       "    </tr>\n",
       "    <tr>\n",
       "      <th>1</th>\n",
       "      <td>$95.6 billion[1] (November 2018)</td>\n",
       "      <td>Melinda French (m. 1994)</td>\n",
       "      <td>3</td>\n",
       "      <td></td>\n",
       "    </tr>\n",
       "    <tr>\n",
       "      <th>2</th>\n",
       "      <td>US$59.5 billion (November 2018)</td>\n",
       "      <td>Adda Quinn(m. 1967; div. 1974) Nancy Wheeler J...</td>\n",
       "      <td>2</td>\n",
       "      <td></td>\n",
       "    </tr>\n",
       "    <tr>\n",
       "      <th>3</th>\n",
       "      <td>US$50.6 billion (October 2018)</td>\n",
       "      <td>Anne Wojcicki(m. 2007; div. 2015)</td>\n",
       "      <td>2</td>\n",
       "      <td></td>\n",
       "    </tr>\n",
       "  </tbody>\n",
       "</table>\n",
       "</div>"
      ],
      "text/plain": [
       "                          Net Worth  \\\n",
       "0     US$137 billion (January 2019)   \n",
       "1  $95.6 billion[1] (November 2018)   \n",
       "2   US$59.5 billion (November 2018)   \n",
       "3    US$50.6 billion (October 2018)   \n",
       "\n",
       "                                              Spouse No. of Children  \\\n",
       "0             MacKenzie Tuttle (m. 1993) (separated)               4   \n",
       "1                           Melinda French (m. 1994)               3   \n",
       "2  Adda Quinn(m. 1967; div. 1974) Nancy Wheeler J...               2   \n",
       "3                  Anne Wojcicki(m. 2007; div. 2015)               2   \n",
       "\n",
       "                   Education  \n",
       "0  Princeton University (BS)  \n",
       "1                             \n",
       "2                             \n",
       "3                             "
      ]
     },
     "execution_count": 168,
     "metadata": {},
     "output_type": "execute_result"
    }
   ],
   "source": [
    "ent_table=pd.DataFrame({\"Net Worth\":ent_worth,\n",
    "                        \"Spouse\": ent_spouse,\n",
    "                        \"No. of Children\": ent_childred,\n",
    "                        \"Education\": ent_education})\n",
    "ent_table"
   ]
  },
  {
   "cell_type": "code",
   "execution_count": 169,
   "metadata": {},
   "outputs": [],
   "source": [
    "ent_table.to_csv(\"Ent_Wiki.csv\")"
   ]
  }
 ],
 "metadata": {
  "kernelspec": {
   "display_name": "Python 3",
   "language": "python",
   "name": "python3"
  },
  "language_info": {
   "codemirror_mode": {
    "name": "ipython",
    "version": 3
   },
   "file_extension": ".py",
   "mimetype": "text/x-python",
   "name": "python",
   "nbconvert_exporter": "python",
   "pygments_lexer": "ipython3",
   "version": "3.7.0"
  }
 },
 "nbformat": 4,
 "nbformat_minor": 2
}
